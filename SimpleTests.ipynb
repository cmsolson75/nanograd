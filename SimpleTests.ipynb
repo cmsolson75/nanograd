{
 "cells": [
  {
   "cell_type": "code",
   "execution_count": 1,
   "metadata": {},
   "outputs": [],
   "source": [
    "from engine import Tensor\n",
    "import numpy as np\n",
    "import nn"
   ]
  },
  {
   "cell_type": "code",
   "execution_count": 9,
   "metadata": {
    "scrolled": false
   },
   "outputs": [
    {
     "name": "stdout",
     "output_type": "stream",
     "text": [
      "0 [0.98269457]\n",
      "200 [0.1302591]\n",
      "400 [0.00475212]\n",
      "600 [0.00140133]\n",
      "800 [0.0003008]\n",
      "1000 [4.5727225e-05]\n",
      "1200 [6.080242e-06]\n",
      "1400 [7.7118284e-07]\n",
      "1600 [9.62288e-08]\n",
      "1800 [1.20045875e-08]\n",
      "2000 [1.559382e-09]\n",
      "2200 [2.556746e-10]\n",
      "2400 [7.108625e-11]\n",
      "2600 [1.5167423e-11]\n",
      "2800 [1.2093437e-11]\n",
      "3000 [1.0513368e-11]\n",
      "3200 [1.01225694e-11]\n",
      "3400 [9.869439e-12]\n",
      "3600 [8.6295415e-12]\n",
      "3800 [7.657874e-12]\n",
      "4000 [7.979395e-12]\n",
      "4200 [7.990053e-12]\n",
      "4400 [7.319478e-12]\n",
      "4600 [6.924239e-12]\n",
      "4800 [6.3593575e-12]\n",
      "5000 [6.6444628e-12]\n",
      "5200 [6.924239e-12]\n",
      "5400 [6.735945e-12]\n",
      "5600 [6.083134e-12]\n",
      "5800 [6.093792e-12]\n",
      "6000 [6.083134e-12]\n",
      "6200 [5.5537797e-12]\n",
      "6400 [5.635492e-12]\n",
      "6600 [5.0599525e-12]\n",
      "6800 [5.4889426e-12]\n",
      "7000 [5.3725913e-12]\n",
      "7200 [5.3725913e-12]\n",
      "7400 [5.3725913e-12]\n",
      "7600 [5.3725913e-12]\n",
      "7800 [5.3725913e-12]\n",
      "8000 [5.3725913e-12]\n",
      "8200 [5.3725913e-12]\n",
      "8400 [5.3725913e-12]\n",
      "8600 [5.3725913e-12]\n",
      "8800 [5.3725913e-12]\n",
      "9000 [5.3725913e-12]\n",
      "9200 [5.3725913e-12]\n",
      "9400 [5.3725913e-12]\n",
      "9600 [5.3725913e-12]\n",
      "9800 [5.3725913e-12]\n"
     ]
    },
    {
     "data": {
      "text/plain": [
       "[[ 1.0000006 ]\n",
       " [-0.9999976 ]\n",
       " [-1.000003  ]\n",
       " [ 0.99999744]]"
      ]
     },
     "execution_count": 9,
     "metadata": {},
     "output_type": "execute_result"
    }
   ],
   "source": [
    "## Does it work in simple contexts?\n",
    "\n",
    "xs = [\n",
    "    [2.0, 3.0, -1.0],\n",
    "    [3.0, -1.0, 0.5],\n",
    "    [0.5, 1.0, 1.0],\n",
    "    [1.0, 1.0, -1.0],\n",
    "]\n",
    "\n",
    "ys = [[1.0], \n",
    "      [-1.0], \n",
    "      [-1.0], \n",
    "      [1.0]]\n",
    "\n",
    "\n",
    "net = nn.MLP()\n",
    "\n",
    "x = Tensor(xs)\n",
    "y_real = Tensor(ys)\n",
    "\n",
    "for k in range(10000):\n",
    "    net.zero_grad()\n",
    "    y_pred = net(x)\n",
    "#     loss = ((y_pred - y_real)**2).sum() / y_real.shape[0]\n",
    "    loss = ((y_pred - y_real)**2).mean(0)\n",
    "#     loss = loss_fn(y_pred, y_real)\n",
    "    loss.backward()\n",
    "    \n",
    "    for p in net.parameters():\n",
    "        if p.grad is not None:\n",
    "            p.data -= 0.005 * p.grad  # Apply the learning rate.\n",
    "    \n",
    "    if k % 200 == 0:\n",
    "        print(k, loss.data)\n",
    "    \n",
    "y_pred"
   ]
  },
  {
   "cell_type": "code",
   "execution_count": 7,
   "metadata": {},
   "outputs": [
    {
     "data": {
      "text/plain": [
       "1.0734491348266602"
      ]
     },
     "execution_count": 7,
     "metadata": {},
     "output_type": "execute_result"
    }
   ],
   "source": [
    "Tensor.randn((2, 2)).max()"
   ]
  },
  {
   "cell_type": "code",
   "execution_count": 3,
   "metadata": {},
   "outputs": [
    {
     "name": "stdout",
     "output_type": "stream",
     "text": [
      "[[[1. 1.]\n",
      "  [1. 1.]\n",
      "  [1. 1.]\n",
      "  [1. 1.]]\n",
      "\n",
      " [[1. 1.]\n",
      "  [1. 1.]\n",
      "  [1. 1.]\n",
      "  [1. 1.]]\n",
      "\n",
      " [[1. 1.]\n",
      "  [1. 1.]\n",
      "  [1. 1.]\n",
      "  [1. 1.]]\n",
      "\n",
      " [[1. 1.]\n",
      "  [1. 1.]\n",
      "  [1. 1.]\n",
      "  [1. 1.]]\n",
      "\n",
      " [[1. 1.]\n",
      "  [1. 1.]\n",
      "  [1. 1.]\n",
      "  [1. 1.]]\n",
      "\n",
      " [[1. 1.]\n",
      "  [1. 1.]\n",
      "  [1. 1.]\n",
      "  [1. 1.]]\n",
      "\n",
      " [[1. 1.]\n",
      "  [1. 1.]\n",
      "  [1. 1.]\n",
      "  [1. 1.]]\n",
      "\n",
      " [[1. 1.]\n",
      "  [1. 1.]\n",
      "  [1. 1.]\n",
      "  [1. 1.]]]\n",
      "[[0. 0. 0. 0.]\n",
      " [0. 0. 0. 0.]]\n",
      "[[1. 0.]\n",
      " [0. 1.]]\n",
      "[-5.   -4.75 -4.5  -4.25 -4.   -3.75 -3.5  -3.25 -3.   -2.75 -2.5  -2.25\n",
      " -2.   -1.75 -1.5  -1.25 -1.   -0.75 -0.5  -0.25  0.    0.25  0.5   0.75\n",
      "  1.    1.25  1.5   1.75  2.    2.25  2.5   2.75  3.    3.25  3.5   3.75\n",
      "  4.    4.25  4.5   4.75]\n",
      "[[-0.04471869 -0.7090294  -0.8956355 ]\n",
      " [-2.4274523  -0.44212446 -0.89774364]]\n"
     ]
    }
   ],
   "source": [
    "# Test creational ops\n",
    "ones = Tensor.ones((8, 4, 2))\n",
    "print(ones)\n",
    "zeros = Tensor.zeros((2, 4))\n",
    "print(zeros)\n",
    "eye = Tensor.eye(2)\n",
    "print(eye)\n",
    "a_range = Tensor.arange(-5, 5, 0.25)\n",
    "print(a_range)\n",
    "randn = Tensor.randn((2, 3))\n",
    "print(randn)"
   ]
  },
  {
   "cell_type": "code",
   "execution_count": 14,
   "metadata": {},
   "outputs": [
    {
     "data": {
      "text/plain": [
       "array([2.5])"
      ]
     },
     "execution_count": 14,
     "metadata": {},
     "output_type": "execute_result"
    }
   ],
   "source": [
    "np.mean([[1, 2, 3, 4]], 1)"
   ]
  },
  {
   "cell_type": "code",
   "execution_count": 19,
   "metadata": {},
   "outputs": [],
   "source": [
    "x = np.random.randn(4, 2)"
   ]
  },
  {
   "cell_type": "code",
   "execution_count": 20,
   "metadata": {},
   "outputs": [
    {
     "data": {
      "text/plain": [
       "8"
      ]
     },
     "execution_count": 20,
     "metadata": {},
     "output_type": "execute_result"
    }
   ],
   "source": [
    "x.size"
   ]
  },
  {
   "cell_type": "code",
   "execution_count": 9,
   "metadata": {},
   "outputs": [
    {
     "data": {
      "text/plain": [
       "[-0.15714246  0.9479264 ]"
      ]
     },
     "execution_count": 9,
     "metadata": {},
     "output_type": "execute_result"
    }
   ],
   "source": [
    "Tensor.randn((2, 2)).mean(1)"
   ]
  },
  {
   "cell_type": "code",
   "execution_count": null,
   "metadata": {},
   "outputs": [],
   "source": []
  }
 ],
 "metadata": {
  "kernelspec": {
   "display_name": "Python 3",
   "language": "python",
   "name": "python3"
  },
  "language_info": {
   "codemirror_mode": {
    "name": "ipython",
    "version": 3
   },
   "file_extension": ".py",
   "mimetype": "text/x-python",
   "name": "python",
   "nbconvert_exporter": "python",
   "pygments_lexer": "ipython3",
   "version": "3.8.5"
  }
 },
 "nbformat": 4,
 "nbformat_minor": 5
}

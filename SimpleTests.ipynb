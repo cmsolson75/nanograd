{
 "cells": [
  {
   "cell_type": "code",
   "execution_count": 1,
   "id": "755c5932",
   "metadata": {},
   "outputs": [],
   "source": [
    "from engine import Tensor\n",
    "import numpy as np\n",
    "import nn"
   ]
  },
  {
   "cell_type": "code",
   "execution_count": 18,
   "id": "e7f6f8a7-f64a-4c28-8482-e847d04dd5b7",
   "metadata": {},
   "outputs": [
    {
     "data": {
      "text/plain": [
       "[[0. 0. 0. 0.]\n",
       " [0. 1. 1. 0.]\n",
       " [0. 1. 1. 0.]\n",
       " [0. 0. 0. 0.]]"
      ]
     },
     "execution_count": 18,
     "metadata": {},
     "output_type": "execute_result"
    }
   ],
   "source": [
    "Tensor.randint(1, 2,(2, 2)).pad(1)"
   ]
  },
  {
   "cell_type": "code",
   "execution_count": 8,
   "id": "4c6d3897",
   "metadata": {},
   "outputs": [
    {
     "name": "stdout",
     "output_type": "stream",
     "text": [
      "0 [0.59198743]\n",
      "200 [0.01661191]\n",
      "400 [0.00627089]\n",
      "600 [0.00360411]\n",
      "800 [0.00241379]\n",
      "1000 [0.00172821]\n",
      "1200 [0.00128797]\n",
      "1400 [0.00098778]\n",
      "1600 [0.00077437]\n",
      "1800 [0.00061779]\n",
      "2000 [0.00049994]\n",
      "2200 [0.00040937]\n",
      "2400 [0.00033856]\n",
      "2600 [0.00028237]\n",
      "2800 [0.00023722]\n",
      "3000 [0.00020056]\n",
      "3200 [0.00017049]\n",
      "3400 [0.00014564]\n",
      "3600 [0.00012495]\n",
      "3800 [0.00010762]\n",
      "4000 [9.300519e-05]\n",
      "4200 [8.062777e-05]\n",
      "4400 [7.0087044e-05]\n",
      "4600 [6.1082064e-05]\n",
      "4800 [5.3355707e-05]\n",
      "5000 [4.6706446e-05]\n",
      "5200 [4.096285e-05]\n",
      "5400 [3.598915e-05]\n",
      "5600 [3.166856e-05]\n",
      "5800 [2.7909213e-05]\n",
      "6000 [2.4631132e-05]\n",
      "6200 [2.1764383e-05]\n",
      "6400 [1.9254665e-05]\n",
      "6600 [1.7050676e-05]\n",
      "6800 [1.511747e-05]\n",
      "7000 [1.3414909e-05]\n",
      "7200 [1.1912405e-05]\n",
      "7400 [1.0588403e-05]\n",
      "7600 [9.418834e-06]\n",
      "7800 [8.382822e-06]\n",
      "8000 [7.4662667e-06]\n",
      "8200 [6.6574676e-06]\n",
      "8400 [5.933968e-06]\n",
      "8600 [5.2965725e-06]\n",
      "8800 [4.7268527e-06]\n",
      "9000 [4.2218962e-06]\n",
      "9200 [3.7727457e-06]\n",
      "9400 [3.3737724e-06]\n",
      "9600 [3.0182632e-06]\n",
      "9800 [2.7011563e-06]\n"
     ]
    },
    {
     "data": {
      "text/plain": [
       "[[ 0.9979787 ]\n",
       " [-0.99998224]\n",
       " [-0.999635  ]\n",
       " [ 1.0023363 ]]"
      ]
     },
     "execution_count": 8,
     "metadata": {},
     "output_type": "execute_result"
    }
   ],
   "source": [
    "## Does it work in simple contexts?\n",
    "\n",
    "xs = [\n",
    "    [2.0, 3.0, -1.0],\n",
    "    [3.0, -1.0, 0.5],\n",
    "    [0.5, 1.0, 1.0],\n",
    "    [1.0, 1.0, -1.0],\n",
    "]\n",
    "\n",
    "ys = [[1.0], \n",
    "      [-1.0], \n",
    "      [-1.0], \n",
    "      [1.0]]\n",
    "\n",
    "\n",
    "\n",
    "net = nn.MLP()\n",
    "\n",
    "x = Tensor(xs)\n",
    "y_real = Tensor(ys)\n",
    "\n",
    "for k in range(10000):\n",
    "    net.zero_grad()\n",
    "    y_pred = net(x)\n",
    "#     loss = ((y_pred - y_real)**2).sum() / y_real.shape[0]\n",
    "    loss = ((y_pred - y_real)**2).mean(0)\n",
    "#     loss = loss_fn(y_pred, y_real)\n",
    "    loss.backward()\n",
    "    \n",
    "    for p in net.parameters():\n",
    "        if p.grad is not None:\n",
    "            p.data -= 0.005 * p.grad  # Apply the learning rate.\n",
    "    \n",
    "    if k % 200 == 0:\n",
    "        print(k, loss.data)\n",
    "    \n",
    "y_pred"
   ]
  },
  {
   "cell_type": "code",
   "execution_count": 9,
   "id": "c95cb77a",
   "metadata": {},
   "outputs": [
    {
     "data": {
      "text/plain": [
       "0.14399215579032898"
      ]
     },
     "execution_count": 9,
     "metadata": {},
     "output_type": "execute_result"
    }
   ],
   "source": [
    "Tensor.randn((2, 2)).max()"
   ]
  },
  {
   "cell_type": "code",
   "execution_count": 3,
   "id": "48635eb0",
   "metadata": {},
   "outputs": [
    {
     "name": "stdout",
     "output_type": "stream",
     "text": [
      "[[[1. 1.]\n",
      "  [1. 1.]\n",
      "  [1. 1.]\n",
      "  [1. 1.]]\n",
      "\n",
      " [[1. 1.]\n",
      "  [1. 1.]\n",
      "  [1. 1.]\n",
      "  [1. 1.]]\n",
      "\n",
      " [[1. 1.]\n",
      "  [1. 1.]\n",
      "  [1. 1.]\n",
      "  [1. 1.]]\n",
      "\n",
      " [[1. 1.]\n",
      "  [1. 1.]\n",
      "  [1. 1.]\n",
      "  [1. 1.]]\n",
      "\n",
      " [[1. 1.]\n",
      "  [1. 1.]\n",
      "  [1. 1.]\n",
      "  [1. 1.]]\n",
      "\n",
      " [[1. 1.]\n",
      "  [1. 1.]\n",
      "  [1. 1.]\n",
      "  [1. 1.]]\n",
      "\n",
      " [[1. 1.]\n",
      "  [1. 1.]\n",
      "  [1. 1.]\n",
      "  [1. 1.]]\n",
      "\n",
      " [[1. 1.]\n",
      "  [1. 1.]\n",
      "  [1. 1.]\n",
      "  [1. 1.]]]\n",
      "[[0. 0. 0. 0.]\n",
      " [0. 0. 0. 0.]]\n",
      "[[1. 0.]\n",
      " [0. 1.]]\n",
      "[-5.   -4.75 -4.5  -4.25 -4.   -3.75 -3.5  -3.25 -3.   -2.75 -2.5  -2.25\n",
      " -2.   -1.75 -1.5  -1.25 -1.   -0.75 -0.5  -0.25  0.    0.25  0.5   0.75\n",
      "  1.    1.25  1.5   1.75  2.    2.25  2.5   2.75  3.    3.25  3.5   3.75\n",
      "  4.    4.25  4.5   4.75]\n",
      "[[-0.04471869 -0.7090294  -0.8956355 ]\n",
      " [-2.4274523  -0.44212446 -0.89774364]]\n"
     ]
    }
   ],
   "source": [
    "# Test creational ops\n",
    "ones = Tensor.ones((8, 4, 2))\n",
    "print(ones)\n",
    "zeros = Tensor.zeros((2, 4))\n",
    "print(zeros)\n",
    "eye = Tensor.eye(2)\n",
    "print(eye)\n",
    "a_range = Tensor.arange(-5, 5, 0.25)\n",
    "print(a_range)\n",
    "randn = Tensor.randn((2, 3))\n",
    "print(randn)"
   ]
  },
  {
   "cell_type": "code",
   "execution_count": 14,
   "id": "d8f8ed79",
   "metadata": {},
   "outputs": [
    {
     "data": {
      "text/plain": [
       "array([2.5])"
      ]
     },
     "execution_count": 14,
     "metadata": {},
     "output_type": "execute_result"
    }
   ],
   "source": [
    "np.mean([[1, 2, 3, 4]], 1)"
   ]
  },
  {
   "cell_type": "code",
   "execution_count": 19,
   "id": "811df37a",
   "metadata": {},
   "outputs": [],
   "source": [
    "x = np.random.randn(4, 2)"
   ]
  },
  {
   "cell_type": "code",
   "execution_count": 20,
   "id": "f8e83fa6",
   "metadata": {},
   "outputs": [
    {
     "data": {
      "text/plain": [
       "8"
      ]
     },
     "execution_count": 20,
     "metadata": {},
     "output_type": "execute_result"
    }
   ],
   "source": [
    "x.size"
   ]
  },
  {
   "cell_type": "code",
   "execution_count": 9,
   "id": "9c980ef6",
   "metadata": {},
   "outputs": [
    {
     "data": {
      "text/plain": [
       "[-0.15714246  0.9479264 ]"
      ]
     },
     "execution_count": 9,
     "metadata": {},
     "output_type": "execute_result"
    }
   ],
   "source": [
    "Tensor.randn((2, 2)).mean(1)"
   ]
  },
  {
   "cell_type": "code",
   "execution_count": 10,
   "id": "5e7e9c4f",
   "metadata": {},
   "outputs": [
    {
     "data": {
      "text/plain": [
       "4"
      ]
     },
     "execution_count": 10,
     "metadata": {},
     "output_type": "execute_result"
    }
   ],
   "source": [
    "max([2, 3, 4])"
   ]
  },
  {
   "cell_type": "code",
   "execution_count": null,
   "id": "c680f04c",
   "metadata": {},
   "outputs": [],
   "source": [
    "[0, 0, 1]"
   ]
  },
  {
   "cell_type": "code",
   "execution_count": 37,
   "id": "d96b0678",
   "metadata": {},
   "outputs": [
    {
     "name": "stdout",
     "output_type": "stream",
     "text": [
      "1.9999999999999996\n"
     ]
    }
   ],
   "source": [
    "x = np.array([2, 3])\n",
    "\n",
    "for i in range(15):\n",
    "    x = x - (0.1 * global_grad)\n",
    "#---------\n",
    "a = 1 + x\n",
    "b = a.sum()\n",
    "c = b * 2\n",
    "\n",
    "print(c)\n",
    "\n",
    "global_grad = 2 * np.array([1, 1]) * 1\n",
    "\n",
    "# global_grad"
   ]
  },
  {
   "cell_type": "code",
   "execution_count": 50,
   "id": "2008ccb6",
   "metadata": {},
   "outputs": [
    {
     "data": {
      "text/plain": [
       "array([[0, 0, 0, 0],\n",
       "       [0, 1, 1, 0],\n",
       "       [0, 1, 1, 0],\n",
       "       [0, 0, 0, 0]])"
      ]
     },
     "execution_count": 50,
     "metadata": {},
     "output_type": "execute_result"
    }
   ],
   "source": [
    "x = np.random.randint(1, 2, (2, 2))\n",
    "x = np.pad(x, 1)\n",
    "x"
   ]
  },
  {
   "cell_type": "code",
   "execution_count": 70,
   "id": "d0d9c6cd",
   "metadata": {},
   "outputs": [
    {
     "name": "stdout",
     "output_type": "stream",
     "text": [
      "[[0 0 0 0]\n",
      " [0 1 1 0]\n",
      " [0 1 1 0]\n",
      " [0 0 0 0]]\n"
     ]
    },
    {
     "ename": "TypeError",
     "evalue": "'int' object is not subscriptable",
     "output_type": "error",
     "traceback": [
      "\u001b[0;31m---------------------------------------------------------------------------\u001b[0m",
      "\u001b[0;31mTypeError\u001b[0m                                 Traceback (most recent call last)",
      "\u001b[0;32m<ipython-input-70-efd4cb55b5b9>\u001b[0m in \u001b[0;36m<module>\u001b[0;34m\u001b[0m\n\u001b[1;32m      9\u001b[0m \u001b[0mprint\u001b[0m\u001b[0;34m(\u001b[0m\u001b[0mpadded_x\u001b[0m\u001b[0;34m)\u001b[0m\u001b[0;34m\u001b[0m\u001b[0;34m\u001b[0m\u001b[0m\n\u001b[1;32m     10\u001b[0m \u001b[0;34m\u001b[0m\u001b[0m\n\u001b[0;32m---> 11\u001b[0;31m \u001b[0mslices\u001b[0m \u001b[0;34m=\u001b[0m \u001b[0mtuple\u001b[0m\u001b[0;34m(\u001b[0m\u001b[0mslice\u001b[0m\u001b[0;34m(\u001b[0m\u001b[0mpad\u001b[0m\u001b[0;34m[\u001b[0m\u001b[0;36m0\u001b[0m\u001b[0;34m]\u001b[0m\u001b[0;34m,\u001b[0m \u001b[0;34m-\u001b[0m\u001b[0mpad\u001b[0m\u001b[0;34m[\u001b[0m\u001b[0;36m1\u001b[0m\u001b[0;34m]\u001b[0m \u001b[0;32mif\u001b[0m \u001b[0mpad\u001b[0m\u001b[0;34m[\u001b[0m\u001b[0;36m1\u001b[0m\u001b[0;34m]\u001b[0m \u001b[0;34m>\u001b[0m \u001b[0;36m0\u001b[0m \u001b[0;32melse\u001b[0m \u001b[0;32mNone\u001b[0m\u001b[0;34m)\u001b[0m \u001b[0;32mfor\u001b[0m \u001b[0mpad\u001b[0m \u001b[0;32min\u001b[0m \u001b[0mpad_width\u001b[0m\u001b[0;34m)\u001b[0m\u001b[0;34m\u001b[0m\u001b[0;34m\u001b[0m\u001b[0m\n\u001b[0m\u001b[1;32m     12\u001b[0m \u001b[0mprint\u001b[0m\u001b[0;34m(\u001b[0m\u001b[0mslices\u001b[0m\u001b[0;34m)\u001b[0m\u001b[0;34m\u001b[0m\u001b[0;34m\u001b[0m\u001b[0m\n\u001b[1;32m     13\u001b[0m \u001b[0;34m\u001b[0m\u001b[0m\n",
      "\u001b[0;32m<ipython-input-70-efd4cb55b5b9>\u001b[0m in \u001b[0;36m<genexpr>\u001b[0;34m(.0)\u001b[0m\n\u001b[1;32m      9\u001b[0m \u001b[0mprint\u001b[0m\u001b[0;34m(\u001b[0m\u001b[0mpadded_x\u001b[0m\u001b[0;34m)\u001b[0m\u001b[0;34m\u001b[0m\u001b[0;34m\u001b[0m\u001b[0m\n\u001b[1;32m     10\u001b[0m \u001b[0;34m\u001b[0m\u001b[0m\n\u001b[0;32m---> 11\u001b[0;31m \u001b[0mslices\u001b[0m \u001b[0;34m=\u001b[0m \u001b[0mtuple\u001b[0m\u001b[0;34m(\u001b[0m\u001b[0mslice\u001b[0m\u001b[0;34m(\u001b[0m\u001b[0mpad\u001b[0m\u001b[0;34m[\u001b[0m\u001b[0;36m0\u001b[0m\u001b[0;34m]\u001b[0m\u001b[0;34m,\u001b[0m \u001b[0;34m-\u001b[0m\u001b[0mpad\u001b[0m\u001b[0;34m[\u001b[0m\u001b[0;36m1\u001b[0m\u001b[0;34m]\u001b[0m \u001b[0;32mif\u001b[0m \u001b[0mpad\u001b[0m\u001b[0;34m[\u001b[0m\u001b[0;36m1\u001b[0m\u001b[0;34m]\u001b[0m \u001b[0;34m>\u001b[0m \u001b[0;36m0\u001b[0m \u001b[0;32melse\u001b[0m \u001b[0;32mNone\u001b[0m\u001b[0;34m)\u001b[0m \u001b[0;32mfor\u001b[0m \u001b[0mpad\u001b[0m \u001b[0;32min\u001b[0m \u001b[0mpad_width\u001b[0m\u001b[0;34m)\u001b[0m\u001b[0;34m\u001b[0m\u001b[0;34m\u001b[0m\u001b[0m\n\u001b[0m\u001b[1;32m     12\u001b[0m \u001b[0mprint\u001b[0m\u001b[0;34m(\u001b[0m\u001b[0mslices\u001b[0m\u001b[0;34m)\u001b[0m\u001b[0;34m\u001b[0m\u001b[0;34m\u001b[0m\u001b[0m\n\u001b[1;32m     13\u001b[0m \u001b[0;34m\u001b[0m\u001b[0m\n",
      "\u001b[0;31mTypeError\u001b[0m: 'int' object is not subscriptable"
     ]
    }
   ],
   "source": [
    "pad_width = (1, 1)\n",
    "mode='constant'\n",
    "constant_values=0\n",
    "\n",
    "\n",
    "x = np.random.randint(1, 2, (2, 2))\n",
    "padded_x = np.pad(x, pad_width, mode=mode, constant_values=constant_values)\n",
    "\n",
    "print(padded_x)\n",
    "\n",
    "slices = tuple(slice(pad[0], -pad[1] if pad[1] > 0 else None) for pad in pad_width)\n",
    "print(slices)\n",
    "\n"
   ]
  },
  {
   "cell_type": "code",
   "execution_count": 72,
   "id": "ad958801",
   "metadata": {},
   "outputs": [
    {
     "name": "stdout",
     "output_type": "stream",
     "text": [
      "Padded Array:\n",
      "[[0 0 0 0]\n",
      " [0 3 3 0]\n",
      " [0 3 7 0]\n",
      " [0 0 0 0]]\n",
      "Original Gradient After Removing Padding:\n",
      "[[1 1]\n",
      " [1 1]]\n"
     ]
    }
   ],
   "source": [
    "import numpy as np\n",
    "\n",
    "# Forward operation: Padding\n",
    "pad_width = ((1, 1), (1, 1))\n",
    "x = np.random.randint(1, 10, (2, 2))\n",
    "padded_x = np.pad(x, pad_width, mode='constant', constant_values=0)\n",
    "print(\"Padded Array:\")\n",
    "print(padded_x)\n",
    "\n",
    "# Simulated backward operation: Removing padding from gradient\n",
    "# Assuming the gradient received back is of the same shape as padded_x, filled with ones\n",
    "grad_output = np.ones_like(padded_x)  # This represents the gradient passed back from the next layer\n",
    "# Calculate the slice indices for extracting the gradient for the original shape\n",
    "slices = tuple(slice(pad[0], -pad[1] if pad[1] > 0 else None) for pad in pad_width)\n",
    "original_grad = grad_output[slices]\n",
    "print(\"Original Gradient After Removing Padding:\")\n",
    "print(original_grad)"
   ]
  },
  {
   "cell_type": "code",
   "execution_count": 113,
   "id": "b8f23607",
   "metadata": {},
   "outputs": [
    {
     "name": "stdout",
     "output_type": "stream",
     "text": [
      "[[0 0 0 0 0]\n",
      " [0 0 1 2 0]\n",
      " [0 0 3 4 0]\n",
      " [0 0 0 0 0]]\n",
      "[(1, -1), (2, -1)]\n"
     ]
    },
    {
     "data": {
      "text/plain": [
       "array([[1, 2],\n",
       "       [3, 4]])"
      ]
     },
     "execution_count": 113,
     "metadata": {},
     "output_type": "execute_result"
    }
   ],
   "source": [
    "\n",
    "x = np.array([[1, 2], [3, 4]])\n",
    "pad_width = ((1, 1), (2, 1))\n",
    "x_pad = np.pad(x, pad_width)\n",
    "print(x_pad)\n",
    "print([(pad[0], -pad[1] if pad[1] > 0 else None) for pad in pad_width])\n",
    "slices = tuple(slice(pad[0], -pad[1] if pad[1] > 0 else None) for pad in pad_width)\n",
    "x_pad[slices]"
   ]
  },
  {
   "cell_type": "code",
   "execution_count": 115,
   "id": "10794d6e",
   "metadata": {},
   "outputs": [
    {
     "name": "stdout",
     "output_type": "stream",
     "text": [
      "[[0 0 0 0 0]\n",
      " [0 0 1 2 0]\n",
      " [0 0 3 4 0]\n",
      " [0 0 0 0 0]]\n"
     ]
    },
    {
     "data": {
      "text/plain": [
       "array([[1, 2],\n",
       "       [3, 4]])"
      ]
     },
     "execution_count": 115,
     "metadata": {},
     "output_type": "execute_result"
    }
   ],
   "source": [
    "print(x_pad)\n",
    "x_pad[1:-1, 2:-1]"
   ]
  },
  {
   "cell_type": "code",
   "execution_count": 88,
   "id": "a32f24a5",
   "metadata": {},
   "outputs": [
    {
     "name": "stdout",
     "output_type": "stream",
     "text": [
      "[[1 2]\n",
      " [3 4]]\n"
     ]
    },
    {
     "data": {
      "text/plain": [
       "array([[1, 2],\n",
       "       [3, 4]])"
      ]
     },
     "execution_count": 88,
     "metadata": {},
     "output_type": "execute_result"
    }
   ],
   "source": [
    "x = np.array([[1, 2], [3, 4]])\n",
    "print(x)\n",
    "padded_x = np.pad(x, ((1, 1), (2, 2)), mode='constant', constant_values=0)\n",
    "\n",
    "\n",
    "slices = tuple(slice(pad[0], -pad[1] if pad[1] > 0 else None) for pad in ((1, 1), (2, 2)))\n",
    "padded_x[slices]"
   ]
  },
  {
   "cell_type": "code",
   "execution_count": 127,
   "id": "f716cc66",
   "metadata": {},
   "outputs": [
    {
     "ename": "ValueError",
     "evalue": "low >= high",
     "output_type": "error",
     "traceback": [
      "\u001b[0;31m---------------------------------------------------------------------------\u001b[0m",
      "\u001b[0;31mValueError\u001b[0m                                Traceback (most recent call last)",
      "\u001b[0;32m<ipython-input-127-f66e3beb070c>\u001b[0m in \u001b[0;36m<module>\u001b[0;34m\u001b[0m\n\u001b[0;32m----> 1\u001b[0;31m \u001b[0mnp\u001b[0m\u001b[0;34m.\u001b[0m\u001b[0mrandom\u001b[0m\u001b[0;34m.\u001b[0m\u001b[0mrandint\u001b[0m\u001b[0;34m(\u001b[0m\u001b[0;34m-\u001b[0m\u001b[0;36m10\u001b[0m\u001b[0;34m)\u001b[0m\u001b[0;34m\u001b[0m\u001b[0;34m\u001b[0m\u001b[0m\n\u001b[0m",
      "\u001b[0;32mmtrand.pyx\u001b[0m in \u001b[0;36mnumpy.random.mtrand.RandomState.randint\u001b[0;34m()\u001b[0m\n",
      "\u001b[0;32m_bounded_integers.pyx\u001b[0m in \u001b[0;36mnumpy.random._bounded_integers._rand_int64\u001b[0;34m()\u001b[0m\n",
      "\u001b[0;31mValueError\u001b[0m: low >= high"
     ]
    }
   ],
   "source": [
    "np.random.randint(-10)"
   ]
  },
  {
   "cell_type": "code",
   "execution_count": 118,
   "id": "4f9c0b62",
   "metadata": {},
   "outputs": [
    {
     "name": "stdout",
     "output_type": "stream",
     "text": [
      "Help on built-in function randint:\n",
      "\n",
      "randint(...) method of numpy.random.mtrand.RandomState instance\n",
      "    randint(low, high=None, size=None, dtype=int)\n",
      "    \n",
      "    Return random integers from `low` (inclusive) to `high` (exclusive).\n",
      "    \n",
      "    Return random integers from the \"discrete uniform\" distribution of\n",
      "    the specified dtype in the \"half-open\" interval [`low`, `high`). If\n",
      "    `high` is None (the default), then results are from [0, `low`).\n",
      "    \n",
      "    .. note::\n",
      "        New code should use the ``integers`` method of a ``default_rng()``\n",
      "        instance instead; please see the :ref:`random-quick-start`.\n",
      "    \n",
      "    Parameters\n",
      "    ----------\n",
      "    low : int or array-like of ints\n",
      "        Lowest (signed) integers to be drawn from the distribution (unless\n",
      "        ``high=None``, in which case this parameter is one above the\n",
      "        *highest* such integer).\n",
      "    high : int or array-like of ints, optional\n",
      "        If provided, one above the largest (signed) integer to be drawn\n",
      "        from the distribution (see above for behavior if ``high=None``).\n",
      "        If array-like, must contain integer values\n",
      "    size : int or tuple of ints, optional\n",
      "        Output shape.  If the given shape is, e.g., ``(m, n, k)``, then\n",
      "        ``m * n * k`` samples are drawn.  Default is None, in which case a\n",
      "        single value is returned.\n",
      "    dtype : dtype, optional\n",
      "        Desired dtype of the result. Byteorder must be native.\n",
      "        The default value is int.\n",
      "    \n",
      "        .. versionadded:: 1.11.0\n",
      "    \n",
      "    Returns\n",
      "    -------\n",
      "    out : int or ndarray of ints\n",
      "        `size`-shaped array of random integers from the appropriate\n",
      "        distribution, or a single such random int if `size` not provided.\n",
      "    \n",
      "    See Also\n",
      "    --------\n",
      "    random_integers : similar to `randint`, only for the closed\n",
      "        interval [`low`, `high`], and 1 is the lowest value if `high` is\n",
      "        omitted.\n",
      "    Generator.integers: which should be used for new code.\n",
      "    \n",
      "    Examples\n",
      "    --------\n",
      "    >>> np.random.randint(2, size=10)\n",
      "    array([1, 0, 0, 0, 1, 1, 0, 0, 1, 0]) # random\n",
      "    >>> np.random.randint(1, size=10)\n",
      "    array([0, 0, 0, 0, 0, 0, 0, 0, 0, 0])\n",
      "    \n",
      "    Generate a 2 x 4 array of ints between 0 and 4, inclusive:\n",
      "    \n",
      "    >>> np.random.randint(5, size=(2, 4))\n",
      "    array([[4, 0, 2, 1], # random\n",
      "           [3, 2, 2, 0]])\n",
      "    \n",
      "    Generate a 1 x 3 array with 3 different upper bounds\n",
      "    \n",
      "    >>> np.random.randint(1, [3, 5, 10])\n",
      "    array([2, 2, 9]) # random\n",
      "    \n",
      "    Generate a 1 by 3 array with 3 different lower bounds\n",
      "    \n",
      "    >>> np.random.randint([1, 5, 7], 10)\n",
      "    array([9, 8, 7]) # random\n",
      "    \n",
      "    Generate a 2 by 4 array using broadcasting with dtype of uint8\n",
      "    \n",
      "    >>> np.random.randint([1, 3, 5, 7], [[10], [20]], dtype=np.uint8)\n",
      "    array([[ 8,  6,  9,  7], # random\n",
      "           [ 1, 16,  9, 12]], dtype=uint8)\n",
      "\n"
     ]
    }
   ],
   "source": [
    "help(np.random.randint)"
   ]
  },
  {
   "cell_type": "code",
   "execution_count": 121,
   "id": "7410fe30",
   "metadata": {},
   "outputs": [
    {
     "data": {
      "text/plain": [
       "array([[2.8674028 , 1.52473784]])"
      ]
     },
     "execution_count": 121,
     "metadata": {},
     "output_type": "execute_result"
    }
   ],
   "source": [
    "np.random.uniform(1, 5, (1, 2))"
   ]
  },
  {
   "cell_type": "code",
   "execution_count": 149,
   "id": "30318f93",
   "metadata": {},
   "outputs": [
    {
     "name": "stdout",
     "output_type": "stream",
     "text": [
      "mean: 0.9968, std: 2.0019\n"
     ]
    }
   ],
   "source": [
    "iterations = 1000000\n",
    "loc = 1\n",
    "scale = 2\n",
    "\n",
    "gens = []\n",
    "for _ in range(iterations):\n",
    "    gen = np.random.normal(loc, scale)\n",
    "    gens.append(gen)\n",
    "    \n",
    "gen_mean = np.mean(gens)\n",
    "gen_std = np.std(gens)\n",
    "\n",
    "print(f\"mean: {gen_mean:.4f}, std: {gen_std:.4f}\")\n",
    "# np.random.normal(0, 2)"
   ]
  },
  {
   "cell_type": "code",
   "execution_count": 135,
   "id": "4120fbf2",
   "metadata": {},
   "outputs": [],
   "source": [
    "# help(np.random.normal)"
   ]
  },
  {
   "cell_type": "code",
   "execution_count": 160,
   "id": "ad6aa784",
   "metadata": {},
   "outputs": [
    {
     "name": "stdout",
     "output_type": "stream",
     "text": [
      "(2, 3, 4)\n",
      "(12, 2)\n"
     ]
    }
   ],
   "source": [
    "a = np.random.randn(2, 3, 4)\n",
    "print(a.shape)\n",
    "r = np.reshape(a, (-1, 2))\n",
    "print(r.shape)"
   ]
  },
  {
   "cell_type": "code",
   "execution_count": 158,
   "id": "a2c648f2",
   "metadata": {},
   "outputs": [
    {
     "data": {
      "text/plain": [
       "array([ 0.45979965,  0.43619348, -0.08389548, -1.3497816 ,  2.45403294,\n",
       "        0.38383975,  0.79300602,  1.87542863,  2.75826507,  1.02701674,\n",
       "       -0.16676227,  0.588941  , -0.58335351,  0.25987984, -0.90546309,\n",
       "       -0.27237536, -0.30579083,  1.07224693, -0.73319399,  0.95927571,\n",
       "       -0.00443822, -0.45567339, -0.88115925,  0.55193867])"
      ]
     },
     "execution_count": 158,
     "metadata": {},
     "output_type": "execute_result"
    }
   ],
   "source": [
    "r"
   ]
  },
  {
   "cell_type": "code",
   "execution_count": 171,
   "id": "876bc982",
   "metadata": {},
   "outputs": [
    {
     "name": "stdout",
     "output_type": "stream",
     "text": [
      "init a\n",
      "[[[[1 2]\n",
      "   [3 4]]\n",
      "\n",
      "  [[5 6]\n",
      "   [7 8]]]]\n",
      "a shape: (1, 2, 2, 2)\n",
      "\n",
      "\n",
      "flattened a\n",
      "[1 2 3 4 5 6 7 8]\n",
      "flat a shape: (8,)\n"
     ]
    }
   ],
   "source": [
    "a = np.arange(1, 9, 1).reshape(1, 2, 2, 2)\n",
    "print(\"init a\")\n",
    "print(a)\n",
    "print(f\"a shape: {a.shape}\")\n",
    "\n",
    "print(\"\\n\")\n",
    "flat_a = a.reshape(-1)\n",
    "print(\"flattened a\")\n",
    "print(flat_a)\n",
    "print(f\"flat a shape: {flat_a.shape}\")\n"
   ]
  },
  {
   "cell_type": "code",
   "execution_count": 190,
   "id": "eb61d8e8",
   "metadata": {},
   "outputs": [
    {
     "name": "stdout",
     "output_type": "stream",
     "text": [
      "[[[[1 2]\n",
      "   [3 4]]\n",
      "\n",
      "  [[5 6]\n",
      "   [7 8]]]]\n"
     ]
    },
    {
     "data": {
      "text/plain": [
       "array([[1, 2],\n",
       "       [3, 4],\n",
       "       [5, 6],\n",
       "       [7, 8]])"
      ]
     },
     "execution_count": 190,
     "metadata": {},
     "output_type": "execute_result"
    }
   ],
   "source": [
    "print(a)\n",
    "\n",
    "a.reshape((4, -1))"
   ]
  },
  {
   "cell_type": "code",
   "execution_count": 199,
   "id": "18234a50",
   "metadata": {},
   "outputs": [
    {
     "data": {
      "text/plain": [
       "array([[[1, 2],\n",
       "        [5, 6]]])"
      ]
     },
     "execution_count": 199,
     "metadata": {},
     "output_type": "execute_result"
    }
   ],
   "source": [
    "a[:, :, 0]"
   ]
  },
  {
   "cell_type": "code",
   "execution_count": 200,
   "id": "1a50e479",
   "metadata": {},
   "outputs": [
    {
     "name": "stdout",
     "output_type": "stream",
     "text": [
      "Help on function reshape in module numpy:\n",
      "\n",
      "reshape(a, newshape, order='C')\n",
      "    Gives a new shape to an array without changing its data.\n",
      "    \n",
      "    Parameters\n",
      "    ----------\n",
      "    a : array_like\n",
      "        Array to be reshaped.\n",
      "    newshape : int or tuple of ints\n",
      "        The new shape should be compatible with the original shape. If\n",
      "        an integer, then the result will be a 1-D array of that length.\n",
      "        One shape dimension can be -1. In this case, the value is\n",
      "        inferred from the length of the array and remaining dimensions.\n",
      "    order : {'C', 'F', 'A'}, optional\n",
      "        Read the elements of `a` using this index order, and place the\n",
      "        elements into the reshaped array using this index order.  'C'\n",
      "        means to read / write the elements using C-like index order,\n",
      "        with the last axis index changing fastest, back to the first\n",
      "        axis index changing slowest. 'F' means to read / write the\n",
      "        elements using Fortran-like index order, with the first index\n",
      "        changing fastest, and the last index changing slowest. Note that\n",
      "        the 'C' and 'F' options take no account of the memory layout of\n",
      "        the underlying array, and only refer to the order of indexing.\n",
      "        'A' means to read / write the elements in Fortran-like index\n",
      "        order if `a` is Fortran *contiguous* in memory, C-like order\n",
      "        otherwise.\n",
      "    \n",
      "    Returns\n",
      "    -------\n",
      "    reshaped_array : ndarray\n",
      "        This will be a new view object if possible; otherwise, it will\n",
      "        be a copy.  Note there is no guarantee of the *memory layout* (C- or\n",
      "        Fortran- contiguous) of the returned array.\n",
      "    \n",
      "    See Also\n",
      "    --------\n",
      "    ndarray.reshape : Equivalent method.\n",
      "    \n",
      "    Notes\n",
      "    -----\n",
      "    It is not always possible to change the shape of an array without\n",
      "    copying the data. If you want an error to be raised when the data is copied,\n",
      "    you should assign the new shape to the shape attribute of the array::\n",
      "    \n",
      "     >>> a = np.zeros((10, 2))\n",
      "    \n",
      "     # A transpose makes the array non-contiguous\n",
      "     >>> b = a.T\n",
      "    \n",
      "     # Taking a view makes it possible to modify the shape without modifying\n",
      "     # the initial object.\n",
      "     >>> c = b.view()\n",
      "     >>> c.shape = (20)\n",
      "     Traceback (most recent call last):\n",
      "        ...\n",
      "     AttributeError: Incompatible shape for in-place modification. Use\n",
      "     `.reshape()` to make a copy with the desired shape.\n",
      "    \n",
      "    The `order` keyword gives the index ordering both for *fetching* the values\n",
      "    from `a`, and then *placing* the values into the output array.\n",
      "    For example, let's say you have an array:\n",
      "    \n",
      "    >>> a = np.arange(6).reshape((3, 2))\n",
      "    >>> a\n",
      "    array([[0, 1],\n",
      "           [2, 3],\n",
      "           [4, 5]])\n",
      "    \n",
      "    You can think of reshaping as first raveling the array (using the given\n",
      "    index order), then inserting the elements from the raveled array into the\n",
      "    new array using the same kind of index ordering as was used for the\n",
      "    raveling.\n",
      "    \n",
      "    >>> np.reshape(a, (2, 3)) # C-like index ordering\n",
      "    array([[0, 1, 2],\n",
      "           [3, 4, 5]])\n",
      "    >>> np.reshape(np.ravel(a), (2, 3)) # equivalent to C ravel then C reshape\n",
      "    array([[0, 1, 2],\n",
      "           [3, 4, 5]])\n",
      "    >>> np.reshape(a, (2, 3), order='F') # Fortran-like index ordering\n",
      "    array([[0, 4, 3],\n",
      "           [2, 1, 5]])\n",
      "    >>> np.reshape(np.ravel(a, order='F'), (2, 3), order='F')\n",
      "    array([[0, 4, 3],\n",
      "           [2, 1, 5]])\n",
      "    \n",
      "    Examples\n",
      "    --------\n",
      "    >>> a = np.array([[1,2,3], [4,5,6]])\n",
      "    >>> np.reshape(a, 6)\n",
      "    array([1, 2, 3, 4, 5, 6])\n",
      "    >>> np.reshape(a, 6, order='F')\n",
      "    array([1, 4, 2, 5, 3, 6])\n",
      "    \n",
      "    >>> np.reshape(a, (3,-1))       # the unspecified value is inferred to be 2\n",
      "    array([[1, 2],\n",
      "           [3, 4],\n",
      "           [5, 6]])\n",
      "\n"
     ]
    }
   ],
   "source": [
    "help(np.reshape)"
   ]
  },
  {
   "cell_type": "code",
   "execution_count": 202,
   "id": "145ef529",
   "metadata": {},
   "outputs": [
    {
     "data": {
      "text/plain": [
       "array([[[[1, 2],\n",
       "         [3, 4]],\n",
       "\n",
       "        [[5, 6],\n",
       "         [7, 8]]]])"
      ]
     },
     "execution_count": 202,
     "metadata": {},
     "output_type": "execute_result"
    }
   ],
   "source": [
    "a.view()"
   ]
  },
  {
   "cell_type": "code",
   "execution_count": 3,
   "id": "bdac9cda",
   "metadata": {},
   "outputs": [],
   "source": [
    "import torch\n",
    "import numpy as np"
   ]
  },
  {
   "cell_type": "code",
   "execution_count": 4,
   "id": "914a947f-2788-4450-b1a3-126585fa127b",
   "metadata": {},
   "outputs": [
    {
     "name": "stdout",
     "output_type": "stream",
     "text": [
      "[[[[1 2]\n",
      "   [3 4]]\n",
      "\n",
      "  [[5 6]\n",
      "   [7 8]]]]\n",
      "tensor([[[[1, 2],\n",
      "          [3, 4]],\n",
      "\n",
      "         [[5, 6],\n",
      "          [7, 8]]]])\n"
     ]
    }
   ],
   "source": [
    "a = np.arange(1, 9, 1).reshape(1, 2, 2, 2)\n",
    "b = torch.arange(1, 9, 1).view(1, 2, 2, 2)\n",
    "\n",
    "print(a)\n",
    "print(b)"
   ]
  },
  {
   "cell_type": "code",
   "execution_count": 60,
   "id": "2cebd2c1-c164-487e-92bf-fefc1ce14191",
   "metadata": {},
   "outputs": [
    {
     "data": {
      "text/plain": [
       "array([[[[1, 2, 3, 4, 5, 6, 7, 8]]]])"
      ]
     },
     "execution_count": 60,
     "metadata": {},
     "output_type": "execute_result"
    }
   ],
   "source": [
    "dim_0 = (-1)\n",
    "dim_1 = ((1, -1))\n",
    "dim_2 = ((1, -1, a.shape[2]*2))\n",
    "dim_3 = (1, 1, 1, -1)\n",
    "a.reshape(dim_3)\n",
    "\n",
    "# a.reshape(-1)"
   ]
  },
  {
   "cell_type": "code",
   "execution_count": 96,
   "id": "a168c03f-a832-4ac6-989e-bece030f8078",
   "metadata": {},
   "outputs": [
    {
     "data": {
      "text/plain": [
       "array([[[[1, 2],\n",
       "         [3, 4]],\n",
       "\n",
       "        [[5, 6],\n",
       "         [7, 8]]]])"
      ]
     },
     "execution_count": 96,
     "metadata": {},
     "output_type": "execute_result"
    }
   ],
   "source": [
    "a[-1:]"
   ]
  },
  {
   "cell_type": "code",
   "execution_count": 78,
   "id": "19b6dc4a-65e6-47a2-ad52-535efb5f41c0",
   "metadata": {},
   "outputs": [
    {
     "data": {
      "text/plain": [
       "array([3, 4, 7, 8])"
      ]
     },
     "execution_count": 78,
     "metadata": {},
     "output_type": "execute_result"
    }
   ],
   "source": [
    "a[:, :, 1].reshape(-1)"
   ]
  },
  {
   "cell_type": "code",
   "execution_count": 87,
   "id": "480263fb-219e-44d4-9567-35c7ce7aaff4",
   "metadata": {},
   "outputs": [
    {
     "name": "stdout",
     "output_type": "stream",
     "text": [
      "tensor([[[[1, 2],\n",
      "          [3, 4]],\n",
      "\n",
      "         [[5, 6],\n",
      "          [7, 8]]]])\n"
     ]
    }
   ],
   "source": [
    "print(b)"
   ]
  },
  {
   "cell_type": "code",
   "execution_count": 148,
   "id": "be899e43-0a70-4ddf-81b1-b95096e0c75c",
   "metadata": {},
   "outputs": [
    {
     "data": {
      "text/plain": [
       "tensor([[[1, 2, 3, 4],\n",
       "         [5, 6, 7, 8]]])"
      ]
     },
     "execution_count": 148,
     "metadata": {},
     "output_type": "execute_result"
    }
   ],
   "source": [
    "b.flatten(2)"
   ]
  },
  {
   "cell_type": "code",
   "execution_count": 61,
   "id": "85b0cbde-d895-4e05-be5a-84ba31765bb4",
   "metadata": {},
   "outputs": [
    {
     "data": {
      "text/plain": [
       "\u001b[0;31mDocstring:\u001b[0m\n",
       "flatten(start_dim=0, end_dim=-1) -> Tensor\n",
       "\n",
       "See :func:`torch.flatten`\n",
       "\u001b[0;31mType:\u001b[0m      builtin_function_or_method"
      ]
     },
     "metadata": {},
     "output_type": "display_data"
    }
   ],
   "source": [
    "b.flatten?"
   ]
  },
  {
   "cell_type": "code",
   "execution_count": 127,
   "id": "5f4d1392-df72-4b32-ac38-a889dcf0bdb9",
   "metadata": {},
   "outputs": [
    {
     "data": {
      "text/plain": [
       "array([1, 3, 5, 7])"
      ]
     },
     "execution_count": 127,
     "metadata": {},
     "output_type": "execute_result"
    }
   ],
   "source": [
    "start = 1\n",
    "end = None\n",
    "\n",
    "a[..., ::2].reshape(-1)"
   ]
  },
  {
   "cell_type": "code",
   "execution_count": 131,
   "id": "10c18abf-5595-401e-8413-00006dc60a22",
   "metadata": {},
   "outputs": [
    {
     "name": "stdout",
     "output_type": "stream",
     "text": [
      "[[[[1 2]\n",
      "   [3 4]]\n",
      "\n",
      "  [[5 6]\n",
      "   [7 8]]]]\n"
     ]
    }
   ],
   "source": [
    "print(a)"
   ]
  },
  {
   "cell_type": "code",
   "execution_count": 177,
   "id": "acf5fe75-3046-495d-a1c4-c3d3389e54e1",
   "metadata": {},
   "outputs": [
    {
     "data": {
      "text/plain": [
       "tensor([[[[1, 2],\n",
       "          [3, 4]],\n",
       "\n",
       "         [[5, 6],\n",
       "          [7, 8]]]])"
      ]
     },
     "execution_count": 177,
     "metadata": {},
     "output_type": "execute_result"
    }
   ],
   "source": [
    "b"
   ]
  },
  {
   "cell_type": "code",
   "execution_count": 187,
   "id": "20ae3353-9501-45e4-9b8a-fa211984b700",
   "metadata": {},
   "outputs": [
    {
     "data": {
      "text/plain": [
       "tensor([1, 2, 3, 4, 5, 6, 7, 8])"
      ]
     },
     "execution_count": 187,
     "metadata": {},
     "output_type": "execute_result"
    }
   ],
   "source": [
    "b.flatten(0, 3)"
   ]
  },
  {
   "cell_type": "code",
   "execution_count": 189,
   "id": "04bc73c9-c022-4354-be5e-e7a8d4939e26",
   "metadata": {},
   "outputs": [
    {
     "name": "stdout",
     "output_type": "stream",
     "text": [
      "[1 2 3 4 5 6 7 8]\n"
     ]
    }
   ],
   "source": [
    "start = 0\n",
    "end = 3\n",
    "\n",
    "if start == 0 and end == -1:\n",
    "    print(a.reshape(-1))\n",
    "if start == 1 and end == -1:\n",
    "    print(a.reshape(1, -1))\n",
    "if start == 2 and end == -1:\n",
    "    print(a.reshape(1, -1, a.shape[start]*2))\n",
    "\n",
    "# ---------------- #\n",
    "if start == 0 and end == 1:\n",
    "    print(a.reshape(1, -1, 2))\n",
    "\n",
    "if start == 0 and end == 2:\n",
    "    print(a.reshape(-1, 2))\n",
    "\n",
    "if start == 0 and end == 3:\n",
    "    print(a.reshape(-1))\n"
   ]
  },
  {
   "cell_type": "code",
   "execution_count": 216,
   "id": "a8ae3648-4eea-4d60-bea6-2e76799ca7ac",
   "metadata": {},
   "outputs": [
    {
     "data": {
      "text/plain": [
       "array([[1, 2, 3, 4],\n",
       "       [5, 6, 7, 8]])"
      ]
     },
     "execution_count": 216,
     "metadata": {},
     "output_type": "execute_result"
    }
   ],
   "source": [
    "out = []\n",
    "\n",
    "for i in a:\n",
    "    # out.append(i.reshape(-1))\n",
    "    for j in i:\n",
    "        out.append(j.reshape(-1))\n",
    "# print(out)\n",
    "np.stack(out)"
   ]
  },
  {
   "cell_type": "code",
   "execution_count": 275,
   "id": "8be48411-647b-4f24-887d-e1e3bfab7dd5",
   "metadata": {},
   "outputs": [
    {
     "data": {
      "text/plain": [
       "torch.Size([1, 2, 2, 2])"
      ]
     },
     "execution_count": 275,
     "metadata": {},
     "output_type": "execute_result"
    }
   ],
   "source": [
    "b.size()"
   ]
  },
  {
   "cell_type": "code",
   "execution_count": 301,
   "id": "6fc1d30d-4f65-434b-bd8b-6fc3119e4c74",
   "metadata": {},
   "outputs": [
    {
     "data": {
      "text/plain": [
       "tensor([[[1, 2, 3, 4],\n",
       "         [5, 6, 7, 8]]])"
      ]
     },
     "execution_count": 301,
     "metadata": {},
     "output_type": "execute_result"
    }
   ],
   "source": [
    "b.flatten(2)"
   ]
  },
  {
   "cell_type": "code",
   "execution_count": 283,
   "id": "40a8c321-35db-4d60-9273-93ac4c908f9f",
   "metadata": {},
   "outputs": [
    {
     "data": {
      "text/plain": [
       "4"
      ]
     },
     "execution_count": 283,
     "metadata": {},
     "output_type": "execute_result"
    }
   ],
   "source": [
    "len(a.shape)"
   ]
  },
  {
   "cell_type": "code",
   "execution_count": 302,
   "id": "2d6624d4-9a19-4b9f-b23d-a036908764cd",
   "metadata": {},
   "outputs": [],
   "source": [
    "def flat(x, start, end=-1):\n",
    "    if end >= len(x.shape) or start >= len(x.shape):\n",
    "        return\n",
    "\n",
    "    if end == -1:\n",
    "        end = len(x.shape) - 1\n",
    "    \n",
    "    def flatten(array, dim, start, stop):\n",
    "        out = []\n",
    "        for items in array:\n",
    "            if dim < start:\n",
    "                print(\"rec\")\n",
    "                return flatten(items, dim+1, start, stop)\n",
    "            elif dim == stop + 1:\n",
    "                return np.stack(out)\n",
    "            else:\n",
    "                out.append(items.reshape(-1))\n",
    "        if len(out) == 1:\n",
    "            return out[0]\n",
    "        else:\n",
    "            return np.stack(out)\n",
    "        \n",
    "    return flatten(x, 0, start, end)\n",
    "                "
   ]
  },
  {
   "cell_type": "code",
   "execution_count": 307,
   "id": "9385c74a-4b46-4b2f-95df-c1c22176019d",
   "metadata": {},
   "outputs": [
    {
     "name": "stdout",
     "output_type": "stream",
     "text": [
      "rec\n"
     ]
    },
    {
     "data": {
      "text/plain": [
       "array([[1, 2, 3, 4],\n",
       "       [5, 6, 7, 8]])"
      ]
     },
     "execution_count": 307,
     "metadata": {},
     "output_type": "execute_result"
    }
   ],
   "source": [
    "flat(a, 1)"
   ]
  },
  {
   "cell_type": "code",
   "execution_count": 310,
   "id": "c75afcb7-dbaa-494d-9016-323c4b034986",
   "metadata": {},
   "outputs": [
    {
     "data": {
      "text/plain": [
       "array([[[1, 2],\n",
       "        [3, 4]],\n",
       "\n",
       "       [[5, 6],\n",
       "        [7, 8]]])"
      ]
     },
     "execution_count": 310,
     "metadata": {},
     "output_type": "execute_result"
    }
   ],
   "source": [
    "a.reshape(2, 2, 2)"
   ]
  },
  {
   "cell_type": "code",
   "execution_count": 266,
   "id": "00c714cd-607e-4220-9ac6-17fb9d4d60fc",
   "metadata": {},
   "outputs": [
    {
     "data": {
      "text/plain": [
       "array([[[2, 4],\n",
       "        [6, 8]]])"
      ]
     },
     "execution_count": 266,
     "metadata": {},
     "output_type": "execute_result"
    }
   ],
   "source": [
    "a[..., 1]"
   ]
  },
  {
   "cell_type": "code",
   "execution_count": null,
   "id": "c89fea06-7cbd-4095-b32b-ed5a558b0016",
   "metadata": {},
   "outputs": [],
   "source": []
  },
  {
   "cell_type": "code",
   "execution_count": null,
   "id": "4a5556dc-6191-4b82-b13d-dcd2f6ff6d45",
   "metadata": {},
   "outputs": [],
   "source": []
  },
  {
   "cell_type": "code",
   "execution_count": 314,
   "id": "346fdf81-1da4-4729-8197-30a714d4ede2",
   "metadata": {},
   "outputs": [
    {
     "name": "stdout",
     "output_type": "stream",
     "text": [
      "hi\n",
      "hi\n"
     ]
    }
   ],
   "source": [
    "for ar in a:\n",
    "    for i in ar:\n",
    "        print(\"hi\")"
   ]
  },
  {
   "cell_type": "code",
   "execution_count": 320,
   "id": "64701ce9-1cc6-4fbb-aba2-314697b1e1be",
   "metadata": {},
   "outputs": [
    {
     "data": {
      "text/plain": [
       "array([[[1, 2],\n",
       "        [3, 4],\n",
       "        [5, 6],\n",
       "        [7, 8]]])"
      ]
     },
     "execution_count": 320,
     "metadata": {},
     "output_type": "execute_result"
    }
   ],
   "source": [
    "\n",
    "def np_flatten(x, start_dim, end_dim=-1):\n",
    "    # Check if end_dim is -1, which implies flattening to the last dimension\n",
    "    if end_dim == -1:\n",
    "        end_dim = len(x.shape) - 1\n",
    "    \n",
    "    # Dimensions before the flattening\n",
    "    shape_before = x.shape[:start_dim]\n",
    "    \n",
    "    # Dimensions to flatten, from start_dim to end_dim\n",
    "    flatten_shape = np.prod(x.shape[start_dim:end_dim + 1])\n",
    "    \n",
    "    # Dimensions after the flattening\n",
    "    shape_after = x.shape[end_dim + 1:]\n",
    "    \n",
    "    # New shape combining all parts\n",
    "    new_shape = shape_before + (flatten_shape,) + shape_after\n",
    "    \n",
    "    # Reshape the array\n",
    "    return x.reshape(new_shape)\n",
    "\n",
    "\n",
    "np_flatten(a, 1, 2)"
   ]
  },
  {
   "cell_type": "code",
   "execution_count": 333,
   "id": "c1b808b0-4e59-4a8a-973d-0ef00900910a",
   "metadata": {},
   "outputs": [
    {
     "data": {
      "text/plain": [
       "(1, 8)"
      ]
     },
     "execution_count": 333,
     "metadata": {},
     "output_type": "execute_result"
    }
   ],
   "source": [
    "x = a\n",
    "start_dim = 1\n",
    "end_dim = 3\n",
    "\n",
    "    # Dimensions before the flattening\n",
    "shape_before = x.shape[:start_dim]\n",
    "    \n",
    "    # Dimensions to flatten, from start_dim to end_dim\n",
    "flatten_shape = np.prod(x.shape[start_dim:end_dim + 1])\n",
    "shape_after = x.shape[end_dim + 1:]\n",
    "\n",
    "\n",
    "shape_before + (flatten_shape, ) + shape_after"
   ]
  },
  {
   "cell_type": "code",
   "execution_count": 327,
   "id": "cf52c6d6-04a3-44da-bf0c-d2f72d035d3b",
   "metadata": {},
   "outputs": [
    {
     "data": {
      "text/plain": [
       "4"
      ]
     },
     "execution_count": 327,
     "metadata": {},
     "output_type": "execute_result"
    }
   ],
   "source": [
    "np.prod(x.shape[1:2+1])"
   ]
  },
  {
   "cell_type": "code",
   "execution_count": 334,
   "id": "a586aaed-3223-497b-a359-d71790ac0f6e",
   "metadata": {},
   "outputs": [
    {
     "data": {
      "text/plain": [
       "(1,)"
      ]
     },
     "execution_count": 334,
     "metadata": {},
     "output_type": "execute_result"
    }
   ],
   "source": [
    "x.shape[:start_dim]"
   ]
  },
  {
   "cell_type": "code",
   "execution_count": 335,
   "id": "2b4c9c80-1b14-4d23-ae56-699297416508",
   "metadata": {},
   "outputs": [
    {
     "data": {
      "text/plain": [
       "(2, 1, 1)"
      ]
     },
     "execution_count": 335,
     "metadata": {},
     "output_type": "execute_result"
    }
   ],
   "source": [
    "(2, ) + () + (1, ) + (1, )"
   ]
  },
  {
   "cell_type": "code",
   "execution_count": null,
   "id": "63e69e1d-6e20-4825-94f8-e24f60c56592",
   "metadata": {},
   "outputs": [],
   "source": [
    "def np_flatten(x, start_dim, end_dim=-1):\n",
    "    new_shape = (x.shape[:start_dim] + \n",
    "                 (np.prod(x.shape[start_dim:end_dim + 1 if end_dim != -1 else None]),) +\n",
    "                 x.shape[end_dim + 1 if end_dim != -1 else None:])\n",
    "    return x.reshape(new_shape)"
   ]
  },
  {
   "cell_type": "code",
   "execution_count": null,
   "id": "7b46d7f2-080e-4f7b-9c00-83620ccd946e",
   "metadata": {},
   "outputs": [],
   "source": [
    "np.prod("
   ]
  },
  {
   "cell_type": "code",
   "execution_count": 321,
   "id": "af7c7fda-ea65-4990-bd10-d540bfc0c7f8",
   "metadata": {},
   "outputs": [
    {
     "data": {
      "text/plain": [
       "\u001b[0;31mSignature:\u001b[0m      \n",
       "\u001b[0mnp\u001b[0m\u001b[0;34m.\u001b[0m\u001b[0mprod\u001b[0m\u001b[0;34m(\u001b[0m\u001b[0;34m\u001b[0m\n",
       "\u001b[0;34m\u001b[0m    \u001b[0ma\u001b[0m\u001b[0;34m,\u001b[0m\u001b[0;34m\u001b[0m\n",
       "\u001b[0;34m\u001b[0m    \u001b[0maxis\u001b[0m\u001b[0;34m=\u001b[0m\u001b[0;32mNone\u001b[0m\u001b[0;34m,\u001b[0m\u001b[0;34m\u001b[0m\n",
       "\u001b[0;34m\u001b[0m    \u001b[0mdtype\u001b[0m\u001b[0;34m=\u001b[0m\u001b[0;32mNone\u001b[0m\u001b[0;34m,\u001b[0m\u001b[0;34m\u001b[0m\n",
       "\u001b[0;34m\u001b[0m    \u001b[0mout\u001b[0m\u001b[0;34m=\u001b[0m\u001b[0;32mNone\u001b[0m\u001b[0;34m,\u001b[0m\u001b[0;34m\u001b[0m\n",
       "\u001b[0;34m\u001b[0m    \u001b[0mkeepdims\u001b[0m\u001b[0;34m=\u001b[0m\u001b[0;34m<\u001b[0m\u001b[0mno\u001b[0m \u001b[0mvalue\u001b[0m\u001b[0;34m>\u001b[0m\u001b[0;34m,\u001b[0m\u001b[0;34m\u001b[0m\n",
       "\u001b[0;34m\u001b[0m    \u001b[0minitial\u001b[0m\u001b[0;34m=\u001b[0m\u001b[0;34m<\u001b[0m\u001b[0mno\u001b[0m \u001b[0mvalue\u001b[0m\u001b[0;34m>\u001b[0m\u001b[0;34m,\u001b[0m\u001b[0;34m\u001b[0m\n",
       "\u001b[0;34m\u001b[0m    \u001b[0mwhere\u001b[0m\u001b[0;34m=\u001b[0m\u001b[0;34m<\u001b[0m\u001b[0mno\u001b[0m \u001b[0mvalue\u001b[0m\u001b[0;34m>\u001b[0m\u001b[0;34m,\u001b[0m\u001b[0;34m\u001b[0m\n",
       "\u001b[0;34m\u001b[0m\u001b[0;34m)\u001b[0m\u001b[0;34m\u001b[0m\u001b[0;34m\u001b[0m\u001b[0m\n",
       "\u001b[0;31mCall signature:\u001b[0m  \u001b[0mnp\u001b[0m\u001b[0;34m.\u001b[0m\u001b[0mprod\u001b[0m\u001b[0;34m(\u001b[0m\u001b[0;34m*\u001b[0m\u001b[0margs\u001b[0m\u001b[0;34m,\u001b[0m \u001b[0;34m**\u001b[0m\u001b[0mkwargs\u001b[0m\u001b[0;34m)\u001b[0m\u001b[0;34m\u001b[0m\u001b[0;34m\u001b[0m\u001b[0m\n",
       "\u001b[0;31mType:\u001b[0m            _ArrayFunctionDispatcher\n",
       "\u001b[0;31mString form:\u001b[0m     <function prod at 0x7fb3ecc7cca0>\n",
       "\u001b[0;31mFile:\u001b[0m            ~/opt/anaconda3/envs/ptb/lib/python3.10/site-packages/numpy/core/fromnumeric.py\n",
       "\u001b[0;31mSource:\u001b[0m         \n",
       "\u001b[0;34m@\u001b[0m\u001b[0marray_function_dispatch\u001b[0m\u001b[0;34m(\u001b[0m\u001b[0m_prod_dispatcher\u001b[0m\u001b[0;34m)\u001b[0m\u001b[0;34m\u001b[0m\n",
       "\u001b[0;34m\u001b[0m\u001b[0;32mdef\u001b[0m \u001b[0mprod\u001b[0m\u001b[0;34m(\u001b[0m\u001b[0ma\u001b[0m\u001b[0;34m,\u001b[0m \u001b[0maxis\u001b[0m\u001b[0;34m=\u001b[0m\u001b[0;32mNone\u001b[0m\u001b[0;34m,\u001b[0m \u001b[0mdtype\u001b[0m\u001b[0;34m=\u001b[0m\u001b[0;32mNone\u001b[0m\u001b[0;34m,\u001b[0m \u001b[0mout\u001b[0m\u001b[0;34m=\u001b[0m\u001b[0;32mNone\u001b[0m\u001b[0;34m,\u001b[0m \u001b[0mkeepdims\u001b[0m\u001b[0;34m=\u001b[0m\u001b[0mnp\u001b[0m\u001b[0;34m.\u001b[0m\u001b[0m_NoValue\u001b[0m\u001b[0;34m,\u001b[0m\u001b[0;34m\u001b[0m\n",
       "\u001b[0;34m\u001b[0m         \u001b[0minitial\u001b[0m\u001b[0;34m=\u001b[0m\u001b[0mnp\u001b[0m\u001b[0;34m.\u001b[0m\u001b[0m_NoValue\u001b[0m\u001b[0;34m,\u001b[0m \u001b[0mwhere\u001b[0m\u001b[0;34m=\u001b[0m\u001b[0mnp\u001b[0m\u001b[0;34m.\u001b[0m\u001b[0m_NoValue\u001b[0m\u001b[0;34m)\u001b[0m\u001b[0;34m:\u001b[0m\u001b[0;34m\u001b[0m\n",
       "\u001b[0;34m\u001b[0m    \u001b[0;34m\"\"\"\u001b[0m\n",
       "\u001b[0;34m    Return the product of array elements over a given axis.\u001b[0m\n",
       "\u001b[0;34m\u001b[0m\n",
       "\u001b[0;34m    Parameters\u001b[0m\n",
       "\u001b[0;34m    ----------\u001b[0m\n",
       "\u001b[0;34m    a : array_like\u001b[0m\n",
       "\u001b[0;34m        Input data.\u001b[0m\n",
       "\u001b[0;34m    axis : None or int or tuple of ints, optional\u001b[0m\n",
       "\u001b[0;34m        Axis or axes along which a product is performed.  The default,\u001b[0m\n",
       "\u001b[0;34m        axis=None, will calculate the product of all the elements in the\u001b[0m\n",
       "\u001b[0;34m        input array. If axis is negative it counts from the last to the\u001b[0m\n",
       "\u001b[0;34m        first axis.\u001b[0m\n",
       "\u001b[0;34m\u001b[0m\n",
       "\u001b[0;34m        .. versionadded:: 1.7.0\u001b[0m\n",
       "\u001b[0;34m\u001b[0m\n",
       "\u001b[0;34m        If axis is a tuple of ints, a product is performed on all of the\u001b[0m\n",
       "\u001b[0;34m        axes specified in the tuple instead of a single axis or all the\u001b[0m\n",
       "\u001b[0;34m        axes as before.\u001b[0m\n",
       "\u001b[0;34m    dtype : dtype, optional\u001b[0m\n",
       "\u001b[0;34m        The type of the returned array, as well as of the accumulator in\u001b[0m\n",
       "\u001b[0;34m        which the elements are multiplied.  The dtype of `a` is used by\u001b[0m\n",
       "\u001b[0;34m        default unless `a` has an integer dtype of less precision than the\u001b[0m\n",
       "\u001b[0;34m        default platform integer.  In that case, if `a` is signed then the\u001b[0m\n",
       "\u001b[0;34m        platform integer is used while if `a` is unsigned then an unsigned\u001b[0m\n",
       "\u001b[0;34m        integer of the same precision as the platform integer is used.\u001b[0m\n",
       "\u001b[0;34m    out : ndarray, optional\u001b[0m\n",
       "\u001b[0;34m        Alternative output array in which to place the result. It must have\u001b[0m\n",
       "\u001b[0;34m        the same shape as the expected output, but the type of the output\u001b[0m\n",
       "\u001b[0;34m        values will be cast if necessary.\u001b[0m\n",
       "\u001b[0;34m    keepdims : bool, optional\u001b[0m\n",
       "\u001b[0;34m        If this is set to True, the axes which are reduced are left in the\u001b[0m\n",
       "\u001b[0;34m        result as dimensions with size one. With this option, the result\u001b[0m\n",
       "\u001b[0;34m        will broadcast correctly against the input array.\u001b[0m\n",
       "\u001b[0;34m\u001b[0m\n",
       "\u001b[0;34m        If the default value is passed, then `keepdims` will not be\u001b[0m\n",
       "\u001b[0;34m        passed through to the `prod` method of sub-classes of\u001b[0m\n",
       "\u001b[0;34m        `ndarray`, however any non-default value will be.  If the\u001b[0m\n",
       "\u001b[0;34m        sub-class' method does not implement `keepdims` any\u001b[0m\n",
       "\u001b[0;34m        exceptions will be raised.\u001b[0m\n",
       "\u001b[0;34m    initial : scalar, optional\u001b[0m\n",
       "\u001b[0;34m        The starting value for this product. See `~numpy.ufunc.reduce` for details.\u001b[0m\n",
       "\u001b[0;34m\u001b[0m\n",
       "\u001b[0;34m        .. versionadded:: 1.15.0\u001b[0m\n",
       "\u001b[0;34m\u001b[0m\n",
       "\u001b[0;34m    where : array_like of bool, optional\u001b[0m\n",
       "\u001b[0;34m        Elements to include in the product. See `~numpy.ufunc.reduce` for details.\u001b[0m\n",
       "\u001b[0;34m\u001b[0m\n",
       "\u001b[0;34m        .. versionadded:: 1.17.0\u001b[0m\n",
       "\u001b[0;34m\u001b[0m\n",
       "\u001b[0;34m    Returns\u001b[0m\n",
       "\u001b[0;34m    -------\u001b[0m\n",
       "\u001b[0;34m    product_along_axis : ndarray, see `dtype` parameter above.\u001b[0m\n",
       "\u001b[0;34m        An array shaped as `a` but with the specified axis removed.\u001b[0m\n",
       "\u001b[0;34m        Returns a reference to `out` if specified.\u001b[0m\n",
       "\u001b[0;34m\u001b[0m\n",
       "\u001b[0;34m    See Also\u001b[0m\n",
       "\u001b[0;34m    --------\u001b[0m\n",
       "\u001b[0;34m    ndarray.prod : equivalent method\u001b[0m\n",
       "\u001b[0;34m    :ref:`ufuncs-output-type`\u001b[0m\n",
       "\u001b[0;34m\u001b[0m\n",
       "\u001b[0;34m    Notes\u001b[0m\n",
       "\u001b[0;34m    -----\u001b[0m\n",
       "\u001b[0;34m    Arithmetic is modular when using integer types, and no error is\u001b[0m\n",
       "\u001b[0;34m    raised on overflow.  That means that, on a 32-bit platform:\u001b[0m\n",
       "\u001b[0;34m\u001b[0m\n",
       "\u001b[0;34m    >>> x = np.array([536870910, 536870910, 536870910, 536870910])\u001b[0m\n",
       "\u001b[0;34m    >>> np.prod(x)\u001b[0m\n",
       "\u001b[0;34m    16 # may vary\u001b[0m\n",
       "\u001b[0;34m\u001b[0m\n",
       "\u001b[0;34m    The product of an empty array is the neutral element 1:\u001b[0m\n",
       "\u001b[0;34m\u001b[0m\n",
       "\u001b[0;34m    >>> np.prod([])\u001b[0m\n",
       "\u001b[0;34m    1.0\u001b[0m\n",
       "\u001b[0;34m\u001b[0m\n",
       "\u001b[0;34m    Examples\u001b[0m\n",
       "\u001b[0;34m    --------\u001b[0m\n",
       "\u001b[0;34m    By default, calculate the product of all elements:\u001b[0m\n",
       "\u001b[0;34m\u001b[0m\n",
       "\u001b[0;34m    >>> np.prod([1.,2.])\u001b[0m\n",
       "\u001b[0;34m    2.0\u001b[0m\n",
       "\u001b[0;34m\u001b[0m\n",
       "\u001b[0;34m    Even when the input array is two-dimensional:\u001b[0m\n",
       "\u001b[0;34m\u001b[0m\n",
       "\u001b[0;34m    >>> a = np.array([[1., 2.], [3., 4.]])\u001b[0m\n",
       "\u001b[0;34m    >>> np.prod(a)\u001b[0m\n",
       "\u001b[0;34m    24.0\u001b[0m\n",
       "\u001b[0;34m\u001b[0m\n",
       "\u001b[0;34m    But we can also specify the axis over which to multiply:\u001b[0m\n",
       "\u001b[0;34m\u001b[0m\n",
       "\u001b[0;34m    >>> np.prod(a, axis=1)\u001b[0m\n",
       "\u001b[0;34m    array([  2.,  12.])\u001b[0m\n",
       "\u001b[0;34m    >>> np.prod(a, axis=0)\u001b[0m\n",
       "\u001b[0;34m    array([3., 8.])\u001b[0m\n",
       "\u001b[0;34m    \u001b[0m\n",
       "\u001b[0;34m    Or select specific elements to include:\u001b[0m\n",
       "\u001b[0;34m\u001b[0m\n",
       "\u001b[0;34m    >>> np.prod([1., np.nan, 3.], where=[True, False, True])\u001b[0m\n",
       "\u001b[0;34m    3.0\u001b[0m\n",
       "\u001b[0;34m\u001b[0m\n",
       "\u001b[0;34m    If the type of `x` is unsigned, then the output type is\u001b[0m\n",
       "\u001b[0;34m    the unsigned platform integer:\u001b[0m\n",
       "\u001b[0;34m\u001b[0m\n",
       "\u001b[0;34m    >>> x = np.array([1, 2, 3], dtype=np.uint8)\u001b[0m\n",
       "\u001b[0;34m    >>> np.prod(x).dtype == np.uint\u001b[0m\n",
       "\u001b[0;34m    True\u001b[0m\n",
       "\u001b[0;34m\u001b[0m\n",
       "\u001b[0;34m    If `x` is of a signed integer type, then the output type\u001b[0m\n",
       "\u001b[0;34m    is the default platform integer:\u001b[0m\n",
       "\u001b[0;34m\u001b[0m\n",
       "\u001b[0;34m    >>> x = np.array([1, 2, 3], dtype=np.int8)\u001b[0m\n",
       "\u001b[0;34m    >>> np.prod(x).dtype == int\u001b[0m\n",
       "\u001b[0;34m    True\u001b[0m\n",
       "\u001b[0;34m\u001b[0m\n",
       "\u001b[0;34m    You can also start the product with a value other than one:\u001b[0m\n",
       "\u001b[0;34m\u001b[0m\n",
       "\u001b[0;34m    >>> np.prod([1, 2], initial=5)\u001b[0m\n",
       "\u001b[0;34m    10\u001b[0m\n",
       "\u001b[0;34m    \"\"\"\u001b[0m\u001b[0;34m\u001b[0m\n",
       "\u001b[0;34m\u001b[0m    \u001b[0;32mreturn\u001b[0m \u001b[0m_wrapreduction\u001b[0m\u001b[0;34m(\u001b[0m\u001b[0ma\u001b[0m\u001b[0;34m,\u001b[0m \u001b[0mnp\u001b[0m\u001b[0;34m.\u001b[0m\u001b[0mmultiply\u001b[0m\u001b[0;34m,\u001b[0m \u001b[0;34m'prod'\u001b[0m\u001b[0;34m,\u001b[0m \u001b[0maxis\u001b[0m\u001b[0;34m,\u001b[0m \u001b[0mdtype\u001b[0m\u001b[0;34m,\u001b[0m \u001b[0mout\u001b[0m\u001b[0;34m,\u001b[0m\u001b[0;34m\u001b[0m\n",
       "\u001b[0;34m\u001b[0m                          \u001b[0mkeepdims\u001b[0m\u001b[0;34m=\u001b[0m\u001b[0mkeepdims\u001b[0m\u001b[0;34m,\u001b[0m \u001b[0minitial\u001b[0m\u001b[0;34m=\u001b[0m\u001b[0minitial\u001b[0m\u001b[0;34m,\u001b[0m \u001b[0mwhere\u001b[0m\u001b[0;34m=\u001b[0m\u001b[0mwhere\u001b[0m\u001b[0;34m)\u001b[0m\u001b[0;34m\u001b[0m\u001b[0;34m\u001b[0m\u001b[0m\n",
       "\u001b[0;31mClass docstring:\u001b[0m\n",
       "Class to wrap functions with checks for __array_function__ overrides.\n",
       "\n",
       "All arguments are required, and can only be passed by position.\n",
       "\n",
       "Parameters\n",
       "----------\n",
       "dispatcher : function or None\n",
       "    The dispatcher function that returns a single sequence-like object\n",
       "    of all arguments relevant.  It must have the same signature (except\n",
       "    the default values) as the actual implementation.\n",
       "    If ``None``, this is a ``like=`` dispatcher and the\n",
       "    ``_ArrayFunctionDispatcher`` must be called with ``like`` as the\n",
       "    first (additional and positional) argument.\n",
       "implementation : function\n",
       "    Function that implements the operation on NumPy arrays without\n",
       "    overrides.  Arguments passed calling the ``_ArrayFunctionDispatcher``\n",
       "    will be forwarded to this (and the ``dispatcher``) as if using\n",
       "    ``*args, **kwargs``.\n",
       "\n",
       "Attributes\n",
       "----------\n",
       "_implementation : function\n",
       "    The original implementation passed in."
      ]
     },
     "metadata": {},
     "output_type": "display_data"
    }
   ],
   "source": [
    "np.prod??"
   ]
  },
  {
   "cell_type": "code",
   "execution_count": 337,
   "id": "62dd2cab-c91e-44a0-89fb-5f21f5a50826",
   "metadata": {},
   "outputs": [],
   "source": [
    "val = np.random.randn(1, 2, 2, 2)"
   ]
  },
  {
   "cell_type": "code",
   "execution_count": 339,
   "id": "2e782091-dc3f-4350-8201-c6306eb3543b",
   "metadata": {},
   "outputs": [
    {
     "data": {
      "text/plain": [
       "array([ 0.84192192, -1.36975739, -1.77335081,  0.74715344,  0.07809733,\n",
       "       -0.38122494,  0.86518989,  0.40399694])"
      ]
     },
     "execution_count": 339,
     "metadata": {},
     "output_type": "execute_result"
    }
   ],
   "source": [
    "val.reshape()"
   ]
  },
  {
   "cell_type": "code",
   "execution_count": 340,
   "id": "31e414ea-68fe-4808-8de9-f24054d7dd45",
   "metadata": {},
   "outputs": [
    {
     "data": {
      "text/plain": [
       "tensor([[[[-0.4883,  0.0058],\n",
       "          [ 0.0032, -0.5770]],\n",
       "\n",
       "         [[-1.0523,  0.7121],\n",
       "          [-0.6822,  0.3962]]]])"
      ]
     },
     "execution_count": 340,
     "metadata": {},
     "output_type": "execute_result"
    }
   ],
   "source": [
    "tval = torch.randn(1, 2, 2, 2)"
   ]
  },
  {
   "cell_type": "code",
   "execution_count": 353,
   "id": "89651122-8005-483f-b3f2-b72f90da50dd",
   "metadata": {},
   "outputs": [
    {
     "data": {
      "text/plain": [
       "torch.Size([1, 2, 2, 2])"
      ]
     },
     "execution_count": 353,
     "metadata": {},
     "output_type": "execute_result"
    }
   ],
   "source": [
    "tval.size()"
   ]
  },
  {
   "cell_type": "code",
   "execution_count": 371,
   "id": "ef4f4185-2189-486f-ab2f-6a712cc40d97",
   "metadata": {},
   "outputs": [
    {
     "data": {
      "text/plain": [
       "tensor([-0.4883,  0.0058,  0.0032, -0.5770, -1.0523,  0.7121, -0.6822,  0.3962])"
      ]
     },
     "execution_count": 371,
     "metadata": {},
     "output_type": "execute_result"
    }
   ],
   "source": [
    "tval.flatten(0)"
   ]
  },
  {
   "cell_type": "code",
   "execution_count": null,
   "id": "636461d6-6ea1-4cdd-8e4e-b97b8be5fdaf",
   "metadata": {},
   "outputs": [],
   "source": [
    "[[[1, 2], \n",
    " [3, 4]]]"
   ]
  },
  {
   "cell_type": "code",
   "execution_count": null,
   "id": "0dc565cb-043c-49bb-9f4f-028745eddd09",
   "metadata": {},
   "outputs": [],
   "source": [
    "(1, 2, 2)"
   ]
  },
  {
   "cell_type": "code",
   "execution_count": null,
   "id": "d2d2c149-c962-4bb2-9d9c-1ef49a2d7813",
   "metadata": {},
   "outputs": [],
   "source": [
    "[[[1, 2], \n",
    " [3, 4]]]"
   ]
  },
  {
   "cell_type": "code",
   "execution_count": 373,
   "id": "dd03d182-bb7d-45cb-b2fc-574cc233563e",
   "metadata": {},
   "outputs": [],
   "source": [
    "x = np.random.randn(1, 2, 2, 4)\n",
    "# x.reshape(-1)"
   ]
  },
  {
   "cell_type": "code",
   "execution_count": null,
   "id": "019e5dfb-68b8-4d79-843b-ac990987c183",
   "metadata": {},
   "outputs": [],
   "source": []
  },
  {
   "cell_type": "code",
   "execution_count": 399,
   "id": "251414f9-d3b7-4b8c-bb5a-bd575c19df83",
   "metadata": {},
   "outputs": [
    {
     "name": "stdout",
     "output_type": "stream",
     "text": [
      "start shape: (1,)\n",
      "flat shape: (4,)\n",
      "end shape: (4,)\n",
      "(1, 4, 4)\n"
     ]
    },
    {
     "data": {
      "text/plain": [
       "array([[[-0.81649415,  1.34022568, -0.09791535,  0.09763588],\n",
       "        [-0.24621646, -1.2966878 ,  0.6383912 , -1.53588527],\n",
       "        [-0.00186106,  0.95540583,  1.15952254,  0.54602754],\n",
       "        [-0.07452992,  0.99371103,  0.34019836,  0.86773557]]])"
      ]
     },
     "execution_count": 399,
     "metadata": {},
     "output_type": "execute_result"
    }
   ],
   "source": [
    "start = 1\n",
    "end = 2\n",
    "\n",
    "start_shape = x.shape[:start]\n",
    "print(f\"start shape: {start_shape}\")\n",
    "\n",
    "flat_shape = (np.prod(x.shape[start:end + 1]), )\n",
    "print(f\"flat shape: {flat_shape}\")\n",
    "\n",
    "end_shape = x.shape[end+1:]\n",
    "print(f\"end shape: {end_shape}\")\n",
    "\n",
    "\n",
    "# This\n",
    "shape = start_shape + flat_shape + end_shape\n",
    "print(shape)\n",
    "x.reshape(shape)"
   ]
  },
  {
   "cell_type": "code",
   "execution_count": 394,
   "id": "0a8082ed-5afb-4336-8544-935a2e84e451",
   "metadata": {},
   "outputs": [
    {
     "data": {
      "text/plain": [
       "(2, 3)"
      ]
     },
     "execution_count": 394,
     "metadata": {},
     "output_type": "execute_result"
    }
   ],
   "source": [
    "my_tup = (2, ) + (3, )\n",
    "my_tup"
   ]
  },
  {
   "cell_type": "code",
   "execution_count": 392,
   "id": "889b1698-aa5e-486c-84f4-505b5e14ff19",
   "metadata": {},
   "outputs": [
    {
     "data": {
      "text/plain": [
       "(2, 3)"
      ]
     },
     "execution_count": 392,
     "metadata": {},
     "output_type": "execute_result"
    }
   ],
   "source": [
    "(2, ) + (3, )"
   ]
  },
  {
   "cell_type": "code",
   "execution_count": 386,
   "id": "0a29d407-a616-42a9-8c9f-c2c75a649dee",
   "metadata": {},
   "outputs": [
    {
     "data": {
      "text/plain": [
       "(2, 3)"
      ]
     },
     "execution_count": 386,
     "metadata": {},
     "output_type": "execute_result"
    }
   ],
   "source": [
    "np.array([[2, 2, 2], \n",
    "          [2, 2, 2]]).shape"
   ]
  },
  {
   "cell_type": "code",
   "execution_count": 389,
   "id": "ebf5c204-7013-4b76-9634-80e3d09e6180",
   "metadata": {},
   "outputs": [
    {
     "data": {
      "text/plain": [
       "(256,)"
      ]
     },
     "execution_count": 389,
     "metadata": {},
     "output_type": "execute_result"
    }
   ],
   "source": [
    "np.random.randn(16, 16).reshape(16 * 16).shape"
   ]
  },
  {
   "cell_type": "code",
   "execution_count": null,
   "id": "f548867d-3931-44b5-9142-fc8b7f2ee738",
   "metadata": {},
   "outputs": [],
   "source": []
  }
 ],
 "metadata": {
  "kernelspec": {
   "display_name": "Python 3 (ipykernel)",
   "language": "python",
   "name": "python3"
  },
  "language_info": {
   "codemirror_mode": {
    "name": "ipython",
    "version": 3
   },
   "file_extension": ".py",
   "mimetype": "text/x-python",
   "name": "python",
   "nbconvert_exporter": "python",
   "pygments_lexer": "ipython3",
   "version": "3.10.13"
  }
 },
 "nbformat": 4,
 "nbformat_minor": 5
}

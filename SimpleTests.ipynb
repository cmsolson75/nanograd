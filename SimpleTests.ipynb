{
 "cells": [
  {
   "cell_type": "code",
   "execution_count": 1,
   "metadata": {},
   "outputs": [],
   "source": [
    "from engine import Tensor\n",
    "import numpy as np\n",
    "import nn"
   ]
  },
  {
   "cell_type": "code",
   "execution_count": 2,
   "metadata": {
    "scrolled": false
   },
   "outputs": [
    {
     "name": "stdout",
     "output_type": "stream",
     "text": [
      "0 1.9549365\n",
      "200 0.026121212\n",
      "400 0.0064662243\n",
      "600 0.0016118803\n",
      "800 0.0003952924\n",
      "1000 0.000109482804\n",
      "1200 4.5122797e-05\n",
      "1400 3.0809453e-05\n",
      "1600 2.7496322e-05\n",
      "1800 2.6570564e-05\n",
      "2000 2.6159656e-05\n",
      "2200 2.5860216e-05\n",
      "2400 2.5588426e-05\n",
      "2600 2.5322435e-05\n",
      "2800 2.5058165e-05\n",
      "3000 2.4798272e-05\n",
      "3200 2.4540645e-05\n",
      "3400 2.4283552e-05\n",
      "3600 2.4034085e-05\n",
      "3800 2.3785069e-05\n",
      "4000 2.3539098e-05\n",
      "4200 2.3295433e-05\n",
      "4400 2.3053817e-05\n",
      "4600 2.2814796e-05\n",
      "4800 2.2577753e-05\n",
      "5000 2.2341339e-05\n",
      "5200 2.2106935e-05\n",
      "5400 2.1873966e-05\n",
      "5600 2.1642245e-05\n",
      "5800 2.1412154e-05\n",
      "6000 2.1183429e-05\n",
      "6200 2.0955424e-05\n",
      "6400 2.073e-05\n",
      "6600 2.0505251e-05\n",
      "6800 2.028741e-05\n",
      "7000 2.0070329e-05\n",
      "7200 1.9854811e-05\n",
      "7400 1.9643292e-05\n",
      "7600 1.9431765e-05\n",
      "7800 1.9221749e-05\n",
      "8000 1.9012976e-05\n",
      "8200 1.8807492e-05\n",
      "8400 1.860299e-05\n",
      "8600 1.8401039e-05\n",
      "8800 1.8200557e-05\n",
      "9000 1.8001487e-05\n",
      "9200 1.7803863e-05\n",
      "9400 1.7607028e-05\n",
      "9600 1.741232e-05\n",
      "9800 1.7218372e-05\n"
     ]
    },
    {
     "data": {
      "text/plain": [
       "[[ 1.0057478]\n",
       " [-1.000001 ]\n",
       " [-1.0000929]\n",
       " [ 0.9940784]]"
      ]
     },
     "execution_count": 2,
     "metadata": {},
     "output_type": "execute_result"
    }
   ],
   "source": [
    "## Does it work in simple contexts?\n",
    "\n",
    "xs = [\n",
    "    [2.0, 3.0, -1.0],\n",
    "    [3.0, -1.0, 0.5],\n",
    "    [0.5, 1.0, 1.0],\n",
    "    [1.0, 1.0, -1.0],\n",
    "]\n",
    "\n",
    "ys = [[1.0], \n",
    "      [-1.0], \n",
    "      [-1.0], \n",
    "      [1.0]]\n",
    "\n",
    "\n",
    "net = nn.MLP()\n",
    "\n",
    "x = Tensor(xs)\n",
    "y_real = Tensor(ys)\n",
    "\n",
    "for k in range(10000):\n",
    "    net.zero_grad()\n",
    "    y_pred = net(x)\n",
    "    loss = ((y_pred - y_real)**2).sum() / y_real.shape[0]\n",
    "#     loss = loss_fn(y_pred, y_real)\n",
    "    loss.backward()\n",
    "    \n",
    "    for p in net.parameters():\n",
    "        if p.grad is not None:\n",
    "            p.data -= 0.005 * p.grad  # Apply the learning rate.\n",
    "    \n",
    "    if k % 200 == 0:\n",
    "        print(k, loss.data)\n",
    "    \n",
    "y_pred"
   ]
  },
  {
   "cell_type": "code",
   "execution_count": 3,
   "metadata": {},
   "outputs": [
    {
     "name": "stdout",
     "output_type": "stream",
     "text": [
      "[[[1. 1.]\n",
      "  [1. 1.]\n",
      "  [1. 1.]\n",
      "  [1. 1.]]\n",
      "\n",
      " [[1. 1.]\n",
      "  [1. 1.]\n",
      "  [1. 1.]\n",
      "  [1. 1.]]\n",
      "\n",
      " [[1. 1.]\n",
      "  [1. 1.]\n",
      "  [1. 1.]\n",
      "  [1. 1.]]\n",
      "\n",
      " [[1. 1.]\n",
      "  [1. 1.]\n",
      "  [1. 1.]\n",
      "  [1. 1.]]\n",
      "\n",
      " [[1. 1.]\n",
      "  [1. 1.]\n",
      "  [1. 1.]\n",
      "  [1. 1.]]\n",
      "\n",
      " [[1. 1.]\n",
      "  [1. 1.]\n",
      "  [1. 1.]\n",
      "  [1. 1.]]\n",
      "\n",
      " [[1. 1.]\n",
      "  [1. 1.]\n",
      "  [1. 1.]\n",
      "  [1. 1.]]\n",
      "\n",
      " [[1. 1.]\n",
      "  [1. 1.]\n",
      "  [1. 1.]\n",
      "  [1. 1.]]]\n",
      "[[0. 0. 0. 0.]\n",
      " [0. 0. 0. 0.]]\n",
      "[[1. 0.]\n",
      " [0. 1.]]\n",
      "[-5.   -4.75 -4.5  -4.25 -4.   -3.75 -3.5  -3.25 -3.   -2.75 -2.5  -2.25\n",
      " -2.   -1.75 -1.5  -1.25 -1.   -0.75 -0.5  -0.25  0.    0.25  0.5   0.75\n",
      "  1.    1.25  1.5   1.75  2.    2.25  2.5   2.75  3.    3.25  3.5   3.75\n",
      "  4.    4.25  4.5   4.75]\n",
      "[[-0.04471869 -0.7090294  -0.8956355 ]\n",
      " [-2.4274523  -0.44212446 -0.89774364]]\n"
     ]
    }
   ],
   "source": [
    "# Test creational ops\n",
    "ones = Tensor.ones((8, 4, 2))\n",
    "print(ones)\n",
    "zeros = Tensor.zeros((2, 4))\n",
    "print(zeros)\n",
    "eye = Tensor.eye(2)\n",
    "print(eye)\n",
    "a_range = Tensor.arange(-5, 5, 0.25)\n",
    "print(a_range)\n",
    "randn = Tensor.randn((2, 3))\n",
    "print(randn)"
   ]
  }
 ],
 "metadata": {
  "kernelspec": {
   "display_name": "Python 3",
   "language": "python",
   "name": "python3"
  },
  "language_info": {
   "codemirror_mode": {
    "name": "ipython",
    "version": 3
   },
   "file_extension": ".py",
   "mimetype": "text/x-python",
   "name": "python",
   "nbconvert_exporter": "python",
   "pygments_lexer": "ipython3",
   "version": "3.8.5"
  }
 },
 "nbformat": 4,
 "nbformat_minor": 5
}

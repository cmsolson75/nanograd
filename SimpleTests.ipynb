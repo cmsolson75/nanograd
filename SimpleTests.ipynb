{
 "cells": [
  {
   "cell_type": "code",
   "execution_count": 2,
   "id": "755c5932",
   "metadata": {},
   "outputs": [],
   "source": [
    "from tensor import Tensor\n",
    "import numpy as np\n",
    "import nn\n",
    "import torch\n",
    "from sklearn import datasets"
   ]
  },
  {
   "cell_type": "code",
   "execution_count": 3,
   "id": "4c6d3897",
   "metadata": {},
   "outputs": [
    {
     "ename": "TypeError",
     "evalue": "MLP.__init__() missing 2 required positional arguments: 'n_in' and 'n_out'",
     "output_type": "error",
     "traceback": [
      "\u001b[0;31m---------------------------------------------------------------------------\u001b[0m",
      "\u001b[0;31mTypeError\u001b[0m                                 Traceback (most recent call last)",
      "Cell \u001b[0;32mIn[3], line 17\u001b[0m\n\u001b[1;32m      3\u001b[0m xs \u001b[38;5;241m=\u001b[39m [\n\u001b[1;32m      4\u001b[0m     [\u001b[38;5;241m2.0\u001b[39m, \u001b[38;5;241m3.0\u001b[39m, \u001b[38;5;241m-\u001b[39m\u001b[38;5;241m1.0\u001b[39m],\n\u001b[1;32m      5\u001b[0m     [\u001b[38;5;241m3.0\u001b[39m, \u001b[38;5;241m-\u001b[39m\u001b[38;5;241m1.0\u001b[39m, \u001b[38;5;241m0.5\u001b[39m],\n\u001b[1;32m      6\u001b[0m     [\u001b[38;5;241m0.5\u001b[39m, \u001b[38;5;241m1.0\u001b[39m, \u001b[38;5;241m1.0\u001b[39m],\n\u001b[1;32m      7\u001b[0m     [\u001b[38;5;241m1.0\u001b[39m, \u001b[38;5;241m1.0\u001b[39m, \u001b[38;5;241m-\u001b[39m\u001b[38;5;241m1.0\u001b[39m],\n\u001b[1;32m      8\u001b[0m ]\n\u001b[1;32m     10\u001b[0m ys \u001b[38;5;241m=\u001b[39m [[\u001b[38;5;241m1.0\u001b[39m], \n\u001b[1;32m     11\u001b[0m       [\u001b[38;5;241m-\u001b[39m\u001b[38;5;241m1.0\u001b[39m], \n\u001b[1;32m     12\u001b[0m       [\u001b[38;5;241m-\u001b[39m\u001b[38;5;241m1.0\u001b[39m], \n\u001b[1;32m     13\u001b[0m       [\u001b[38;5;241m1.0\u001b[39m]]\n\u001b[0;32m---> 17\u001b[0m net \u001b[38;5;241m=\u001b[39m \u001b[43mnn\u001b[49m\u001b[38;5;241;43m.\u001b[39;49m\u001b[43mMLP\u001b[49m\u001b[43m(\u001b[49m\u001b[43m)\u001b[49m\n\u001b[1;32m     19\u001b[0m optim \u001b[38;5;241m=\u001b[39m nn\u001b[38;5;241m.\u001b[39mSGD(net\u001b[38;5;241m.\u001b[39mparameters(), lr\u001b[38;5;241m=\u001b[39m\u001b[38;5;241m0.005\u001b[39m, momentum\u001b[38;5;241m=\u001b[39m\u001b[38;5;241m0.9\u001b[39m)\n\u001b[1;32m     21\u001b[0m x \u001b[38;5;241m=\u001b[39m Tensor(xs)\n",
      "\u001b[0;31mTypeError\u001b[0m: MLP.__init__() missing 2 required positional arguments: 'n_in' and 'n_out'"
     ]
    }
   ],
   "source": [
    "## Does it work in simple contexts?\n",
    "\n",
    "xs = [\n",
    "    [2.0, 3.0, -1.0],\n",
    "    [3.0, -1.0, 0.5],\n",
    "    [0.5, 1.0, 1.0],\n",
    "    [1.0, 1.0, -1.0],\n",
    "]\n",
    "\n",
    "ys = [[1.0], \n",
    "      [-1.0], \n",
    "      [-1.0], \n",
    "      [1.0]]\n",
    "\n",
    "\n",
    "\n",
    "net = nn.MLP()\n",
    "\n",
    "optim = nn.SGD(net.parameters(), lr=0.005, momentum=0.9)\n",
    "\n",
    "x = Tensor(xs)\n",
    "y_real = Tensor(ys)\n",
    "\n",
    "for k in range(10000):\n",
    "    optim.zero_grad()\n",
    "    y_pred = net(x)\n",
    "    loss = ((y_pred - y_real)**2).mean(0)\n",
    "    loss.backward()\n",
    "    optim.step()\n",
    "    if k % 200 == 0:\n",
    "        print(k, loss.data)\n",
    "    \n",
    "y_pred"
   ]
  },
  {
   "cell_type": "code",
   "execution_count": 14,
   "id": "e0ae1129-ddb7-4772-91f6-ed446a8f1b01",
   "metadata": {},
   "outputs": [],
   "source": [
    "import numpy as np\n",
    "import matplotlib.pyplot as plt\n",
    "from sklearn.datasets import make_circles\n"
   ]
  },
  {
   "cell_type": "code",
   "execution_count": 3,
   "id": "0678922d-6bb9-4a77-aeae-754dc3b527dd",
   "metadata": {},
   "outputs": [],
   "source": [
    "from sklearn import datasets"
   ]
  },
  {
   "cell_type": "code",
   "execution_count": 11,
   "id": "2acb07c0-72b2-429f-b89b-6eabaaeb9386",
   "metadata": {},
   "outputs": [
    {
     "data": {
      "text/plain": [
       "(array([[-0.37988947,  0.05099247],\n",
       "        [ 0.58493451, -0.798081  ],\n",
       "        [ 1.04167054,  0.74203373],\n",
       "        [-2.86375784,  0.58412593],\n",
       "        [ 1.03509501,  0.47722211],\n",
       "        [ 0.537244  ,  1.18953602],\n",
       "        [ 0.59130794, -0.73619249],\n",
       "        [ 0.34538168, -0.0382666 ],\n",
       "        [-1.11921492,  1.06750063],\n",
       "        [ 0.88444262,  1.47938184],\n",
       "        [-0.02414129,  0.74867554],\n",
       "        [-0.69657555, -0.86273344],\n",
       "        [-2.35665649,  0.42522904],\n",
       "        [ 1.300929  , -2.67400544],\n",
       "        [-2.37987777,  0.01012245],\n",
       "        [-0.82709791, -1.7800778 ],\n",
       "        [-1.37558475, -0.40835085],\n",
       "        [-1.09512129, -1.5971113 ],\n",
       "        [-1.50145152, -0.8248431 ],\n",
       "        [ 0.12458102, -1.38277224],\n",
       "        [ 0.8473867 ,  0.84127458],\n",
       "        [ 0.69786211, -0.50552855],\n",
       "        [ 0.58246639, -0.2890588 ],\n",
       "        [ 0.79505177,  0.32554748],\n",
       "        [ 0.56900632,  0.2725109 ],\n",
       "        [ 1.33618627,  0.30505305],\n",
       "        [ 0.09898389, -0.18741819],\n",
       "        [-0.11827806,  0.00755403],\n",
       "        [-0.69351011,  0.33028676],\n",
       "        [ 1.77573364, -0.40765328],\n",
       "        [-1.0107766 ,  0.42055541],\n",
       "        [-2.26436058,  0.19131994],\n",
       "        [ 0.43816138, -0.27469023],\n",
       "        [-1.41899348, -0.48235612],\n",
       "        [-1.18546504,  1.02442576],\n",
       "        [-0.52782265,  0.3507548 ],\n",
       "        [ 0.41158961,  0.79155638],\n",
       "        [ 1.10045588, -1.45553977],\n",
       "        [-0.80413664, -0.20968982],\n",
       "        [ 1.23318374, -0.01839279],\n",
       "        [ 0.69798403,  2.92893306],\n",
       "        [-1.82817587,  0.32898068],\n",
       "        [-0.63999511, -0.20921829],\n",
       "        [ 0.02471879, -0.33206057],\n",
       "        [ 1.33340711,  2.21539149],\n",
       "        [-0.93672244, -0.97622056],\n",
       "        [-1.94752412, -0.87524257],\n",
       "        [ 0.46518867,  0.28500934],\n",
       "        [-0.55070157,  1.89056753],\n",
       "        [-1.67278848,  0.08405816],\n",
       "        [ 0.47077916, -0.50424129],\n",
       "        [ 0.44108986, -0.51231659],\n",
       "        [ 0.13327889,  0.43750864],\n",
       "        [ 2.17962917,  1.06195707],\n",
       "        [ 1.56639207, -0.55027888],\n",
       "        [ 1.2868969 , -0.0747265 ],\n",
       "        [-0.16335375, -0.76123713],\n",
       "        [-0.58380922, -1.07197534],\n",
       "        [ 0.24182534, -0.23737752],\n",
       "        [ 1.32730085, -1.19414438],\n",
       "        [ 1.15635133,  1.37507751],\n",
       "        [-0.37915633,  2.29970715],\n",
       "        [ 1.43041319,  0.45168681],\n",
       "        [ 0.41946162, -1.08164207],\n",
       "        [-1.42719372,  1.0493021 ],\n",
       "        [ 0.85226279, -0.49321787],\n",
       "        [ 0.59417731, -0.906138  ],\n",
       "        [ 0.66377907,  0.69394669],\n",
       "        [ 0.19398645, -0.38439749],\n",
       "        [-0.80773513,  1.1135406 ],\n",
       "        [-0.25153607, -0.44026887],\n",
       "        [-0.45026878, -0.04220967],\n",
       "        [-0.45480343,  0.61875355],\n",
       "        [-0.90940946,  0.5304045 ],\n",
       "        [ 0.64668822, -0.63753276],\n",
       "        [ 0.75338501,  1.66391678],\n",
       "        [-0.47631056, -1.17759944],\n",
       "        [-0.33075714,  0.18044857],\n",
       "        [ 1.19598076,  0.48196925],\n",
       "        [ 1.54488699,  0.36604384],\n",
       "        [-0.57718664, -0.98372169],\n",
       "        [-0.22595872, -0.8160223 ],\n",
       "        [-0.36413556,  1.3458003 ],\n",
       "        [-0.1997047 ,  0.90182089],\n",
       "        [ 0.84347315,  1.48294798],\n",
       "        [-1.53920655, -0.41509806],\n",
       "        [-0.56378133, -0.78313254],\n",
       "        [-0.34311593, -0.30820757],\n",
       "        [ 0.00833126,  0.22065134],\n",
       "        [-2.20106925, -0.84308586],\n",
       "        [ 0.20544721,  0.03514831],\n",
       "        [-2.0902381 ,  0.86229163],\n",
       "        [-1.26505368, -0.04928587],\n",
       "        [ 0.83358281,  0.01701371],\n",
       "        [-0.31737161,  1.45986149],\n",
       "        [-0.85110062,  0.29666534],\n",
       "        [-1.52528517, -0.48057733],\n",
       "        [ 0.47884904,  0.70962502],\n",
       "        [ 1.36764991,  1.35681389],\n",
       "        [ 2.16748119, -1.29302935],\n",
       "        [ 3.00173762, -0.11528646],\n",
       "        [ 0.95530399,  0.06449974],\n",
       "        [-0.64915234,  0.5573208 ],\n",
       "        [-0.61128921,  1.22891441],\n",
       "        [ 1.22817447, -0.02701282],\n",
       "        [ 0.68569501,  0.15170628],\n",
       "        [ 1.67862653,  1.008975  ],\n",
       "        [ 2.35443112, -1.22858669],\n",
       "        [ 1.31867825, -1.28526682],\n",
       "        [-0.08553136, -0.19556585],\n",
       "        [-0.96657389,  0.34773522],\n",
       "        [ 0.11865322, -0.36513261],\n",
       "        [ 1.55313703,  1.79171436],\n",
       "        [ 1.5310555 , -1.00208088],\n",
       "        [ 1.42195234, -1.03836684],\n",
       "        [ 0.57989614, -1.55812776],\n",
       "        [ 0.6579925 ,  0.54703247],\n",
       "        [ 0.58772886,  0.22780292],\n",
       "        [ 0.69625082,  2.19803572],\n",
       "        [ 1.06992838, -0.48019353],\n",
       "        [-0.01983245, -0.71844576],\n",
       "        [ 1.44012566, -0.05377079],\n",
       "        [-1.5194356 ,  1.22713173],\n",
       "        [-0.45064541,  1.94948949],\n",
       "        [ 0.99438865, -0.45594984],\n",
       "        [-1.04674445,  0.33124858],\n",
       "        [-0.5419757 , -0.75876409],\n",
       "        [-1.0109288 , -0.41790997],\n",
       "        [-1.25394269,  0.7900872 ],\n",
       "        [ 1.36817788,  1.31561941],\n",
       "        [ 0.96659834, -0.84114831],\n",
       "        [ 0.41219768, -0.59502253],\n",
       "        [ 1.00472818, -0.3739419 ],\n",
       "        [ 2.35758634, -0.33745144],\n",
       "        [-1.1165868 , -0.10350087],\n",
       "        [ 0.67927194, -0.1631168 ],\n",
       "        [-2.09199714,  1.4852254 ],\n",
       "        [ 0.09496386, -0.76739172],\n",
       "        [-0.59142567,  0.40984373],\n",
       "        [ 1.39148141, -0.10861629],\n",
       "        [-1.32573581, -0.91850265],\n",
       "        [ 0.97792164, -0.92721766],\n",
       "        [-1.74939945,  1.79651434],\n",
       "        [-0.05134676,  0.98935933],\n",
       "        [-0.89082077, -0.67131758],\n",
       "        [ 0.17894723, -0.26370488],\n",
       "        [ 0.37850155, -1.930884  ],\n",
       "        [ 0.51102147, -0.48640013],\n",
       "        [-1.82732894, -0.08511263],\n",
       "        [ 0.78662902,  1.5951093 ],\n",
       "        [ 0.06180105, -1.15569617],\n",
       "        [ 1.72674568, -0.86122886],\n",
       "        [ 0.42685309,  0.67017831],\n",
       "        [ 0.62230728,  1.45711153],\n",
       "        [-0.77627345, -0.59952327],\n",
       "        [ 0.07673571,  0.38990407],\n",
       "        [-0.83312568, -0.44702268],\n",
       "        [-0.29992654, -0.07709146],\n",
       "        [ 0.99589033,  0.8459378 ],\n",
       "        [ 0.35629783,  1.25680619],\n",
       "        [-1.28375134, -0.67590075],\n",
       "        [ 0.44141989, -1.16934015],\n",
       "        [ 1.38271745,  1.08303   ],\n",
       "        [ 0.34674087, -1.19718848],\n",
       "        [-0.91765546, -0.6389312 ],\n",
       "        [-1.1883507 ,  0.74220057],\n",
       "        [ 0.3559945 , -1.35655821],\n",
       "        [-0.14158211,  0.64620796],\n",
       "        [ 0.4737616 ,  1.05037768],\n",
       "        [ 0.13172649, -1.51578997],\n",
       "        [-0.61823653,  1.42693682],\n",
       "        [-0.36249774,  1.19361582],\n",
       "        [ 0.64423934,  0.3780433 ],\n",
       "        [-0.04336982, -0.07898442],\n",
       "        [ 0.3809852 , -0.04315838],\n",
       "        [ 2.74464138, -0.87814266],\n",
       "        [-0.43049792,  1.08824768],\n",
       "        [ 0.07774692,  1.58455932],\n",
       "        [-0.92961526,  1.0124561 ],\n",
       "        [-0.45669479, -0.76872361],\n",
       "        [ 1.17824879, -2.29445671],\n",
       "        [ 0.14796376, -1.63401958],\n",
       "        [ 0.22657891,  0.91956943],\n",
       "        [ 1.70348375,  2.52416318],\n",
       "        [-0.32560588,  0.93869177],\n",
       "        [ 1.06405603, -0.33603559],\n",
       "        [ 0.20476318, -2.38062816],\n",
       "        [-1.01336885, -0.54470955],\n",
       "        [-1.33407744,  1.57792152],\n",
       "        [-2.10297772,  0.43945797],\n",
       "        [-0.16716414, -0.30856934],\n",
       "        [-1.90088733,  0.98908319],\n",
       "        [-0.10712352,  1.90005839],\n",
       "        [ 0.44656093,  0.57017234],\n",
       "        [ 1.00416151,  0.44175218],\n",
       "        [ 0.9277659 ,  0.37449185],\n",
       "        [-0.56066591,  0.413027  ],\n",
       "        [ 0.21565258,  1.45262151],\n",
       "        [-0.08999307, -0.34774259],\n",
       "        [ 1.29126573,  0.91664125]]),\n",
       " array([-1.65359040e+01, -3.89629325e+01,  1.24283532e+02, -1.06769760e+02,\n",
       "         1.00215919e+02,  1.36329000e+02, -3.30578881e+01,  1.57576790e+01,\n",
       "         3.34123196e+01,  1.81563991e+02,  6.56656010e+01, -1.15910818e+02,\n",
       "        -9.28096766e+01, -1.67117859e+02, -1.31265610e+02, -2.05264290e+02,\n",
       "        -1.12957223e+02, -2.03802998e+02, -1.57229111e+02, -1.16859702e+02,\n",
       "         1.22390122e+02, -6.49895691e+00,  6.47766657e+00,  7.32875417e+01,\n",
       "         5.60005778e+01,  1.01505488e+02, -1.12787053e+01, -5.88986089e+00,\n",
       "        -8.95528294e+00,  6.21450804e+01, -1.84747329e+01, -1.08625549e+02,\n",
       "        -2.41048801e-01, -1.21994119e+02,  2.58758428e+01,  2.08621300e+00,\n",
       "         9.37170073e+01, -6.91870000e+01, -6.34212647e+01,  6.68560542e+01,\n",
       "         3.00979929e+02, -7.20946238e+01, -5.42790357e+01, -2.83589348e+01,\n",
       "         2.72363090e+02, -1.39421612e+02, -1.86513814e+02,  5.13367576e+01,\n",
       "         1.38667386e+02, -8.53747562e+01, -1.90026912e+01, -2.13608778e+01,\n",
       "         4.65714538e+01,  2.16111845e+02,  3.77310987e+01,  6.47839994e+01,\n",
       "        -7.72204521e+01, -1.28388408e+02, -7.82406480e+00, -3.31835351e+01,\n",
       "         1.87337253e+02,  1.84815002e+02,  1.19889300e+02, -7.35337508e+01,\n",
       "         1.46756927e+01,  3.15917841e+00, -4.81134008e+01,  9.89929506e+01,\n",
       "        -2.36564443e+01,  5.48243705e+01, -5.33780728e+01, -2.87950421e+01,\n",
       "         3.01263092e+01, -3.02371662e+00, -2.11532826e+01,  1.90810404e+02,\n",
       "        -1.31883292e+02, -2.22327232e+00,  1.09547862e+02,  1.18553254e+02,\n",
       "        -1.20118950e+02, -8.56018095e+01,  1.00244478e+02,  6.96569150e+01,\n",
       "         1.79593386e+02, -1.22668757e+02, -1.01423692e+02, -4.66434495e+01,\n",
       "         2.02027741e+01, -1.97720824e+02,  1.45637644e+01, -3.88947274e+01,\n",
       "        -7.46715153e+01,  4.78070954e+01,  1.13058148e+02, -2.07093957e+01,\n",
       "        -1.27719180e+02,  9.01343942e+01,  1.97405899e+02,  4.62336820e+00,\n",
       "         1.56395316e+02,  5.88388063e+01,  1.38442635e+01,  7.60652969e+01,\n",
       "         6.57864477e+01,  5.16484740e+01,  1.83554573e+02,  2.07752384e+01,\n",
       "        -4.18173901e+01, -2.22570890e+01, -2.25458486e+01, -2.61044828e+01,\n",
       "         2.46664515e+02, -4.67269090e+00, -1.39713026e+01, -1.07276082e+02,\n",
       "         8.55305005e+01,  5.30336542e+01,  2.35427123e+02,  1.64296194e+01,\n",
       "        -6.54110754e+01,  7.51855942e+01,  2.54713303e+01,  1.49487632e+02,\n",
       "         1.44234668e+01, -2.85080845e+01, -9.80395801e+01, -9.35483385e+01,\n",
       "         1.08561341e+00,  1.93772035e+02, -2.16097755e+01, -3.03736469e+01,\n",
       "         2.23179451e+01,  1.00709885e+02, -7.12882647e+01,  2.31261760e+01,\n",
       "         1.67543494e+01, -6.34136634e+01,  3.84291371e+00,  6.75576692e+01,\n",
       "        -1.55874415e+02, -2.86855552e+01,  6.36758797e+01,  8.57132642e+01,\n",
       "        -1.09585252e+02, -1.36756820e+01, -1.51798744e+02, -1.51711965e+01,\n",
       "        -1.09112580e+02,  1.86475756e+02, -1.00023679e+02,  1.88035516e+01,\n",
       "         8.36973482e+01,  1.65010167e+02, -9.67801402e+01,  3.91838774e+01,\n",
       "        -8.62814076e+01, -2.35570128e+01,  1.31045293e+02,  1.32297660e+02,\n",
       "        -1.31788457e+02, -8.01530487e+01,  1.73755202e+02, -8.79178715e+01,\n",
       "        -1.08162707e+02,  4.52917816e-01, -1.01669278e+02,  4.99603869e+01,\n",
       "         1.20349538e+02, -1.28383708e+02,  9.34092227e+01,  8.67146921e+01,\n",
       "         6.96287487e+01, -9.48122099e+00,  1.73047841e+01,  7.38292966e+01,\n",
       "         7.35290049e+01,  1.46176736e+02,  3.90077818e+01, -9.41678257e+01,\n",
       "        -1.39975782e+02, -1.38067163e+02,  9.49031913e+01,  3.20586477e+02,\n",
       "         6.59479787e+01,  2.90097665e+01, -2.01738290e+02, -1.05026459e+02,\n",
       "         6.71561253e+01, -7.74619717e+01, -3.69031986e+01, -1.70359009e+01,\n",
       "         1.64144292e+02,  7.58372267e+01,  9.53181430e+01,  8.50417247e+01,\n",
       "         5.83151740e+00,  1.42021348e+02, -3.61215921e+01,  1.53756286e+02]))"
      ]
     },
     "execution_count": 11,
     "metadata": {},
     "output_type": "execute_result"
    }
   ],
   "source": [
    "datasets.make_regression(n_samples=200, n_features=2, noise=0.01)"
   ]
  },
  {
   "cell_type": "code",
   "execution_count": 2,
   "id": "70d0b0ff-84b1-4e00-889f-18ea95687b5a",
   "metadata": {},
   "outputs": [
    {
     "data": {
      "image/png": "[encoded data removed]",
      "text/plain": [
       "<Figure size 640x480 with 1 Axes>"
      ]
     },
     "metadata": {},
     "output_type": "display_data"
    },
    {
     "ename": "NameError",
     "evalue": "name 'Tensor' is not defined",
     "output_type": "error",
     "traceback": [
      "\u001b[0;31m---------------------------------------------------------------------------\u001b[0m",
      "\u001b[0;31mNameError\u001b[0m                                 Traceback (most recent call last)",
      "Cell \u001b[0;32mIn[2], line 39\u001b[0m\n\u001b[1;32m     35\u001b[0m xs \u001b[38;5;241m=\u001b[39m X\u001b[38;5;241m.\u001b[39mtolist()\n\u001b[1;32m     36\u001b[0m ys \u001b[38;5;241m=\u001b[39m [[y] \u001b[38;5;28;01mfor\u001b[39;00m y \u001b[38;5;129;01min\u001b[39;00m Y\u001b[38;5;241m.\u001b[39mtolist()]\n\u001b[0;32m---> 39\u001b[0m x \u001b[38;5;241m=\u001b[39m \u001b[43mTensor\u001b[49m(xs)\n\u001b[1;32m     40\u001b[0m y_real \u001b[38;5;241m=\u001b[39m Tensor(ys)\n",
      "\u001b[0;31mNameError\u001b[0m: name 'Tensor' is not defined"
     ]
    }
   ],
   "source": [
    "import numpy as np\n",
    "import matplotlib.pyplot as plt\n",
    "from sklearn.datasets import make_circles\n",
    "\n",
    "def generate_twisted_spiral(n_samples, noise=0.05, factor=0.5):\n",
    "    \"\"\"\n",
    "    Generates a spiral dataset using the make_circles function from scikit-learn,\n",
    "    then 'twists' it to resemble a spiral.\n",
    "    :param n_samples: int, total number of points\n",
    "    :param noise: float, standard deviation of Gaussian noise\n",
    "    :param factor: float, scale factor between inner and outer circle\n",
    "    :return: tuple, features (X) and labels (y)\n",
    "    \"\"\"\n",
    "    X, y = make_circles(n_samples=n_samples, factor=factor, noise=noise, random_state=42)\n",
    "    Y = y * 2 - 1  # Adjust labels to be -1 and 1\n",
    "\n",
    "    # Apply a transformation to twist the circles into spirals\n",
    "    transformation = np.array([[0.6, -0.6], [0.8, 0.8]])\n",
    "    X = np.dot(X, transformation)\n",
    "\n",
    "    return X, Y\n",
    "\n",
    "# Generate the data\n",
    "n_samples = 200\n",
    "X, Y = generate_twisted_spiral(n_samples)\n",
    "\n",
    "# Plotting the dataset\n",
    "plt.scatter(X[:, 0], X[:, 1], c=Y, cmap=plt.cm.bwr)\n",
    "plt.xlabel(\"Feature 1\")\n",
    "plt.ylabel(\"Feature 2\")\n",
    "plt.title(\"Twisted Spiral Dataset\")\n",
    "plt.show()\n",
    "\n",
    "# Convert the data for your neural network\n",
    "xs = X.tolist()\n",
    "ys = [[y] for y in Y.tolist()]\n",
    "\n",
    "\n",
    "x = Tensor(xs)\n",
    "y_real = Tensor(ys)"
   ]
  },
  {
   "cell_type": "code",
   "execution_count": 3,
   "id": "d097b395-abe2-4b6f-b658-cbcf6a8cfbd2",
   "metadata": {},
   "outputs": [
    {
     "data": {
      "text/plain": [
       "(200, 1)"
      ]
     },
     "execution_count": 3,
     "metadata": {},
     "output_type": "execute_result"
    }
   ],
   "source": [
    "y_real.shape"
   ]
  },
  {
   "cell_type": "code",
   "execution_count": 64,
   "id": "9de4d135-e476-4662-9275-cf9a3c75df7e",
   "metadata": {},
   "outputs": [],
   "source": [
    "def kaiming_uniform(shape, gain=np.sqrt(2)):\n",
    "    \"\"\"\n",
    "    Kaiming Uniform initialization (He initialization) for weight matrices.\n",
    "\n",
    "    Args:\n",
    "    shape (tuple): The shape of the weight matrix.\n",
    "    gain (float): The scaling factor (recommended sqrt(2) for ReLU).\n",
    "\n",
    "    Returns:\n",
    "    numpy.ndarray: The initialized weights.\n",
    "    \"\"\"\n",
    "    print(shape[:-1])\n",
    "    fan_in = np.prod(shape[:-1])  # Product of dimensions except the last dimension\n",
    "    std = gain / np.sqrt(fan_in)  # Calculate standard deviation\n",
    "    limit = np.sqrt(3.0) * std  # Calculate limit for uniform distribution\n",
    "\n",
    "    return np.random.uniform(-limit, limit, size=shape)"
   ]
  },
  {
   "cell_type": "code",
   "execution_count": 65,
   "id": "e14c1c49-2fcc-44a7-8de7-db2a881572e9",
   "metadata": {},
   "outputs": [
    {
     "name": "stdout",
     "output_type": "stream",
     "text": [
      "(1,)\n"
     ]
    },
    {
     "data": {
      "text/plain": [
       "1.3609795497380417"
      ]
     },
     "execution_count": 65,
     "metadata": {},
     "output_type": "execute_result"
    }
   ],
   "source": [
    "kaiming_uniform((1, 30)).std()"
   ]
  },
  {
   "cell_type": "code",
   "execution_count": 58,
   "id": "831fac3e-bc9e-4dde-a6d2-641aa44e4ad3",
   "metadata": {},
   "outputs": [
    {
     "data": {
      "text/plain": [
       "0.5480296227365216"
      ]
     },
     "execution_count": 58,
     "metadata": {},
     "output_type": "execute_result"
    }
   ],
   "source": [
    "div = 1. / np.sqrt(1)\n",
    "\n",
    "np.random.uniform(-div, div, (30, 1)).std()"
   ]
  },
  {
   "cell_type": "code",
   "execution_count": 42,
   "id": "0f7840a5-b50b-4377-99b7-35c0f3ac7e1a",
   "metadata": {},
   "outputs": [
    {
     "data": {
      "text/plain": [
       "tensor(1.3837)"
      ]
     },
     "execution_count": 42,
     "metadata": {},
     "output_type": "execute_result"
    }
   ],
   "source": [
    "def kaiming_uniform_np(in_features, out_features):\n",
    "    tensor = torch.empty(out_features, in_features)\n",
    "    torch.nn.init.kaiming_uniform_(tensor, a=0)\n",
    "    return tensor\n",
    "\n",
    "kaiming_uniform_np(1, 30).std()"
   ]
  },
  {
   "cell_type": "code",
   "execution_count": 24,
   "id": "7e08446f-6c8d-428e-8284-d01f1f0222d4",
   "metadata": {},
   "outputs": [
    {
     "data": {
      "text/plain": [
       "2.0763154"
      ]
     },
     "execution_count": 24,
     "metadata": {},
     "output_type": "execute_result"
    }
   ],
   "source": [
    "Tensor.kaiming_uniform(1, 30).data.std()"
   ]
  },
  {
   "cell_type": "code",
   "execution_count": 45,
   "id": "32310904-4b96-421a-8ec8-9d6cdc7e6813",
   "metadata": {},
   "outputs": [
    {
     "data": {
      "text/plain": [
       "tensor(0.6320)"
      ]
     },
     "execution_count": 45,
     "metadata": {},
     "output_type": "execute_result"
    }
   ],
   "source": [
    "torch.nn.Linear(1, 30).weight.data.std()"
   ]
  },
  {
   "cell_type": "code",
   "execution_count": 2,
   "id": "3a225ef2-865d-4d2d-aed8-e59e0a7b1d09",
   "metadata": {},
   "outputs": [],
   "source": [
    "import torch"
   ]
  },
  {
   "cell_type": "code",
   "execution_count": 8,
   "id": "fbc7557d-0438-462c-8059-332422507072",
   "metadata": {},
   "outputs": [
    {
     "data": {
      "text/plain": [
       "array([[ 1.34808479e+01],\n",
       "       [ 1.95015536e+01],\n",
       "       [ 9.26908849e+00],\n",
       "       [-7.11581725e+01],\n",
       "       [ 3.82720009e+01],\n",
       "       [-2.02885994e+01],\n",
       "       [-4.51040988e+01],\n",
       "       [-2.99703446e+00],\n",
       "       [-5.36353356e+01],\n",
       "       [ 2.99604916e+01],\n",
       "       [ 2.50319926e+01],\n",
       "       [ 1.04251160e+01],\n",
       "       [ 2.14645088e+01],\n",
       "       [-1.32464234e+01],\n",
       "       [ 6.29139272e+01],\n",
       "       [ 9.49373062e+01],\n",
       "       [ 2.41986366e+00],\n",
       "       [ 2.49414707e+01],\n",
       "       [ 5.90874473e+01],\n",
       "       [-1.32988455e+01],\n",
       "       [-4.08545268e+01],\n",
       "       [ 5.01039319e+01],\n",
       "       [ 9.43388459e+01],\n",
       "       [ 1.31495079e+01],\n",
       "       [ 2.87668639e+01],\n",
       "       [-8.99283457e+01],\n",
       "       [ 5.16602512e+01],\n",
       "       [-8.32871601e+01],\n",
       "       [ 2.80392787e+01],\n",
       "       [-5.47252391e+01],\n",
       "       [ 4.75007538e+00],\n",
       "       [ 1.42287816e+01],\n",
       "       [-3.92285690e+01],\n",
       "       [ 3.04828626e+01],\n",
       "       [-4.81688788e+01],\n",
       "       [ 2.85847082e+00],\n",
       "       [ 1.83038978e+01],\n",
       "       [ 4.37668251e+01],\n",
       "       [-1.28567963e+02],\n",
       "       [-5.74547790e+01],\n",
       "       [ 6.53947587e+01],\n",
       "       [-6.21549007e+00],\n",
       "       [ 3.85965636e+00],\n",
       "       [ 4.98299016e+01],\n",
       "       [ 6.68209875e+01],\n",
       "       [-2.52869079e+01],\n",
       "       [-6.09593921e+01],\n",
       "       [-9.08948338e+00],\n",
       "       [ 6.13655668e+01],\n",
       "       [ 7.23340318e+01],\n",
       "       [-2.69006553e+01],\n",
       "       [-1.53916359e+01],\n",
       "       [-9.35509137e+01],\n",
       "       [ 6.09753113e+00],\n",
       "       [-1.61156747e+01],\n",
       "       [-6.46030781e+01],\n",
       "       [ 1.03491882e+02],\n",
       "       [-6.00392078e+01],\n",
       "       [ 2.61929150e+00],\n",
       "       [-4.76265722e+00],\n",
       "       [ 2.50046075e+01],\n",
       "       [ 1.22860876e+02],\n",
       "       [ 4.11564525e+01],\n",
       "       [ 9.28494602e+00],\n",
       "       [-8.82339018e+01],\n",
       "       [-8.41596177e+00],\n",
       "       [-6.78158181e+01],\n",
       "       [ 3.53466192e+01],\n",
       "       [ 1.28535234e+00],\n",
       "       [ 4.35755617e+01],\n",
       "       [ 7.25589208e+00],\n",
       "       [ 7.57642704e+01],\n",
       "       [ 4.48006481e+00],\n",
       "       [-2.67395776e+01],\n",
       "       [-3.31142780e+00],\n",
       "       [-1.33849616e+02],\n",
       "       [ 8.47523584e+01],\n",
       "       [-1.35231032e+02],\n",
       "       [-1.11664660e+01],\n",
       "       [-5.80380383e+01],\n",
       "       [ 1.05371124e+01],\n",
       "       [-2.42766989e+01],\n",
       "       [ 6.12741505e+01],\n",
       "       [ 8.62848942e+00],\n",
       "       [-1.01627872e+01],\n",
       "       [-7.99076921e+01],\n",
       "       [ 6.04944734e+00],\n",
       "       [-2.83788696e+00],\n",
       "       [-9.30822684e+01],\n",
       "       [ 1.10613781e+01],\n",
       "       [-1.54946140e+01],\n",
       "       [-8.18379894e+01],\n",
       "       [ 1.29112595e+01],\n",
       "       [-5.93188057e+00],\n",
       "       [ 2.25911596e+01],\n",
       "       [ 5.36493557e+01],\n",
       "       [ 8.05646629e+01],\n",
       "       [ 3.07757150e+01],\n",
       "       [ 5.95164759e+01],\n",
       "       [ 7.66166369e+01],\n",
       "       [ 6.86460002e+01],\n",
       "       [ 7.00534504e+01],\n",
       "       [ 2.18712834e+01],\n",
       "       [ 2.43034079e+01],\n",
       "       [ 1.03880934e+02],\n",
       "       [ 7.18503017e+01],\n",
       "       [-9.20217399e+01],\n",
       "       [-1.51774214e+02],\n",
       "       [ 1.61290767e+01],\n",
       "       [-3.36169660e+01],\n",
       "       [-3.54660403e+01],\n",
       "       [ 2.02494817e+01],\n",
       "       [-7.79212517e-01],\n",
       "       [ 4.75853549e+01],\n",
       "       [ 1.38376691e+02],\n",
       "       [ 2.79284706e+00],\n",
       "       [ 5.57373923e+01],\n",
       "       [-1.72018289e+01],\n",
       "       [-7.10086110e+01],\n",
       "       [ 9.71818919e+01],\n",
       "       [ 9.89439839e+01],\n",
       "       [ 8.00715441e+01],\n",
       "       [-1.91857475e+01],\n",
       "       [ 2.83996138e+01],\n",
       "       [-1.49395027e+02],\n",
       "       [-7.08946123e+01],\n",
       "       [ 2.33040657e+01],\n",
       "       [ 1.30750945e+02],\n",
       "       [ 6.06070397e+01],\n",
       "       [-7.13446060e+00],\n",
       "       [ 4.75265570e+01],\n",
       "       [ 3.18792555e+01],\n",
       "       [-5.10784314e+00],\n",
       "       [-4.03160405e+01],\n",
       "       [-2.95332804e+01],\n",
       "       [ 4.08425564e+01],\n",
       "       [-4.23496299e+01],\n",
       "       [-5.86748786e+01],\n",
       "       [-2.55218471e+01],\n",
       "       [ 3.48138529e+01],\n",
       "       [-4.42367359e+01],\n",
       "       [-5.28819324e+01],\n",
       "       [-5.77165575e+01],\n",
       "       [-9.04083460e+01],\n",
       "       [-7.05943048e+01],\n",
       "       [-1.69589491e+01],\n",
       "       [ 5.66819709e+01],\n",
       "       [ 1.02451903e+02],\n",
       "       [ 2.22385262e+01],\n",
       "       [ 5.18436817e+01],\n",
       "       [ 3.59353127e+01],\n",
       "       [ 1.40028258e-01],\n",
       "       [ 3.05268162e+01],\n",
       "       [-2.66669497e+01],\n",
       "       [-1.07604288e+01],\n",
       "       [-3.96603853e+00],\n",
       "       [-7.00414822e+01],\n",
       "       [-7.33390316e+01],\n",
       "       [ 1.16920341e+01],\n",
       "       [ 3.89407595e+01],\n",
       "       [ 5.73096472e+01],\n",
       "       [ 8.73217682e+01],\n",
       "       [ 6.37591858e+01],\n",
       "       [ 9.54350994e+01],\n",
       "       [ 5.03106827e+01],\n",
       "       [-7.74942170e+01],\n",
       "       [ 4.91873589e+01],\n",
       "       [ 2.90601056e+00],\n",
       "       [ 5.67087992e+00],\n",
       "       [-2.90817280e+01],\n",
       "       [ 2.39828519e+01],\n",
       "       [-1.53550637e+01],\n",
       "       [ 6.16899498e+01],\n",
       "       [ 8.33839044e+00],\n",
       "       [-9.20494006e+01],\n",
       "       [-3.72003592e+01],\n",
       "       [ 5.11585232e+01],\n",
       "       [ 4.90394241e+01],\n",
       "       [ 1.57229569e+01],\n",
       "       [-5.09775758e+01],\n",
       "       [-2.49324113e+00],\n",
       "       [-1.10176198e+02],\n",
       "       [-9.06750562e+01],\n",
       "       [ 1.28778941e+00],\n",
       "       [-8.46435899e+01],\n",
       "       [ 1.94591319e+01],\n",
       "       [ 7.26336566e+00],\n",
       "       [-4.00500123e+01],\n",
       "       [-4.42049111e+00],\n",
       "       [-1.45251284e+02],\n",
       "       [-2.15135676e+01],\n",
       "       [-1.34623405e+01],\n",
       "       [-1.65222995e+00],\n",
       "       [ 8.15869894e+01],\n",
       "       [-8.85474823e+01],\n",
       "       [-5.57984865e+01],\n",
       "       [-1.46917206e+01],\n",
       "       [-3.93055231e+01],\n",
       "       [ 9.61359145e+01],\n",
       "       [-1.19186346e+02]])"
      ]
     },
     "execution_count": 8,
     "metadata": {},
     "output_type": "execute_result"
    }
   ],
   "source": [
    "X, y = datasets.make_regression(n_samples=200, n_features=1, noise=0.01)\n",
    "y.reshape(-1, 1)"
   ]
  },
  {
   "cell_type": "code",
   "execution_count": 7,
   "id": "b38dd6b5-bf05-4a7b-b1dd-690b2c4d4467",
   "metadata": {
    "scrolled": true
   },
   "outputs": [
    {
     "name": "stdout",
     "output_type": "stream",
     "text": [
      "Epoch [10/500], Loss: 31109.421875\n",
      "Epoch [20/500], Loss: 31104.693359375\n",
      "Epoch [30/500], Loss: 31096.7265625\n",
      "Epoch [40/500], Loss: 31081.283203125\n",
      "Epoch [50/500], Loss: 31047.93359375\n",
      "Epoch [60/500], Loss: 30969.1875\n",
      "Epoch [70/500], Loss: 30758.580078125\n",
      "Epoch [80/500], Loss: 30078.73046875\n",
      "Epoch [90/500], Loss: 27268.603515625\n",
      "Epoch [100/500], Loss: 15240.7255859375\n",
      "Epoch [110/500], Loss: 2808.72607421875\n",
      "Epoch [120/500], Loss: 1188.68603515625\n",
      "Epoch [130/500], Loss: 512.91357421875\n",
      "Epoch [140/500], Loss: 297.84857177734375\n",
      "Epoch [150/500], Loss: 193.2275848388672\n",
      "Epoch [160/500], Loss: 110.69011688232422\n",
      "Epoch [170/500], Loss: 69.50608825683594\n",
      "Epoch [180/500], Loss: 50.1485710144043\n",
      "Epoch [190/500], Loss: 38.389549255371094\n",
      "Epoch [200/500], Loss: 30.448320388793945\n",
      "Epoch [210/500], Loss: 24.696334838867188\n",
      "Epoch [220/500], Loss: 20.25763702392578\n",
      "Epoch [230/500], Loss: 16.7406005859375\n",
      "Epoch [240/500], Loss: 13.935633659362793\n",
      "Epoch [250/500], Loss: 11.66395092010498\n",
      "Epoch [260/500], Loss: 9.80624771118164\n",
      "Epoch [270/500], Loss: 8.276496887207031\n",
      "Epoch [280/500], Loss: 7.010298728942871\n",
      "Epoch [290/500], Loss: 5.956667423248291\n",
      "Epoch [300/500], Loss: 5.077518463134766\n",
      "Epoch [310/500], Loss: 4.340960502624512\n",
      "Epoch [320/500], Loss: 3.7210357189178467\n",
      "Epoch [330/500], Loss: 3.1977055072784424\n",
      "Epoch [340/500], Loss: 2.755589723587036\n",
      "Epoch [350/500], Loss: 2.382232904434204\n",
      "Epoch [360/500], Loss: 2.066715717315674\n",
      "Epoch [370/500], Loss: 1.7988524436950684\n",
      "Epoch [380/500], Loss: 1.5709171295166016\n",
      "Epoch [390/500], Loss: 1.375801682472229\n",
      "Epoch [400/500], Loss: 1.2086513042449951\n",
      "Epoch [410/500], Loss: 1.0651320219039917\n",
      "Epoch [420/500], Loss: 0.9416621327400208\n",
      "Epoch [430/500], Loss: 0.835223913192749\n",
      "Epoch [440/500], Loss: 0.7428017258644104\n",
      "Epoch [450/500], Loss: 0.6623873710632324\n",
      "Epoch [460/500], Loss: 0.592343270778656\n",
      "Epoch [470/500], Loss: 0.5308983325958252\n",
      "Epoch [480/500], Loss: 0.4768983721733093\n",
      "Epoch [490/500], Loss: 0.42934659123420715\n",
      "Epoch [500/500], Loss: 0.38731372356414795\n",
      "141.0438060760498\n"
     ]
    }
   ],
   "source": [
    "import nn\n",
    "from tensor import Tensor\n",
    "# Generate the data\n",
    "# n_samples = 200\n",
    "X, y = datasets.make_regression(n_samples=1000, n_features=100, noise=0.01)\n",
    "import time\n",
    "class MLP(nn.Module):\n",
    "    def __init__(self):\n",
    "        self.fc1 = nn.Linear(100, 2048)\n",
    "        self.fc2 = nn.Linear(2048, 2048) # Second hidden layer, 64 neurons\n",
    "        self.output = nn.Linear(2048, 100) # Output layer, 1 output value\n",
    "\n",
    "    def __call__(self, x):\n",
    "        x = self.fc1(x).relu()\n",
    "        x = self.fc2(x).relu()\n",
    "        x = self.output(x)\n",
    "        return x\n",
    "\n",
    "model = MLP()\n",
    "optim = nn.SGD(model.parameters(), lr=0.0001, momentum=0.9)\n",
    "loss_fn = nn.MSELoss()\n",
    "\n",
    "x = Tensor(X)\n",
    "y_real = Tensor(y).reshape(-1, 1)\n",
    "\n",
    "epochs = 500\n",
    "start_time = time.time() \n",
    "for epoch in range(epochs):\n",
    "    y_pred = model(x)\n",
    "    loss = loss_fn(y_pred, y_real)\n",
    "\n",
    "    optim.zero_grad()\n",
    "    loss.backward()\n",
    "    optim.step()\n",
    "    if (epoch+1) % 10 == 0:\n",
    "        print(f'Epoch [{epoch+1}/{epochs}], Loss: {loss.data}')\n",
    "end_time = time.time()  # Record the end time\n",
    "elapsed_time = end_time - start_time  # Calculate the elapsed time   \n",
    "\n",
    "print(elapsed_time)"
   ]
  },
  {
   "cell_type": "code",
   "execution_count": 4,
   "id": "705f10ad-612c-43ab-ba78-60d82abadc62",
   "metadata": {},
   "outputs": [
    {
     "ename": "ValueError",
     "evalue": "non-broadcastable output operand with shape (200,1) doesn't match the broadcast shape (200,200)",
     "output_type": "error",
     "traceback": [
      "\u001b[0;31m---------------------------------------------------------------------------\u001b[0m",
      "\u001b[0;31mValueError\u001b[0m                                Traceback (most recent call last)",
      "Cell \u001b[0;32mIn[4], line 4\u001b[0m\n\u001b[1;32m      1\u001b[0m a \u001b[38;5;241m=\u001b[39m np\u001b[38;5;241m.\u001b[39mrandom\u001b[38;5;241m.\u001b[39mrandn(\u001b[38;5;241m200\u001b[39m, \u001b[38;5;241m1\u001b[39m)  \n\u001b[1;32m      2\u001b[0m b \u001b[38;5;241m=\u001b[39m np\u001b[38;5;241m.\u001b[39mrandom\u001b[38;5;241m.\u001b[39mrandn(\u001b[38;5;241m200\u001b[39m, )\n\u001b[0;32m----> 4\u001b[0m a \u001b[38;5;241m+\u001b[39m\u001b[38;5;241m=\u001b[39m b\n",
      "\u001b[0;31mValueError\u001b[0m: non-broadcastable output operand with shape (200,1) doesn't match the broadcast shape (200,200)"
     ]
    }
   ],
   "source": [
    "a = np.random.randn(200, 1)  \n",
    "b = np.random.randn(200, )\n",
    "\n",
    "a += b"
   ]
  },
  {
   "cell_type": "code",
   "execution_count": 5,
   "id": "07247f0f-f291-4104-b0e7-885d154a2293",
   "metadata": {},
   "outputs": [
    {
     "name": "stderr",
     "output_type": "stream",
     "text": [
      "/Users/cameronolson/opt/anaconda3/envs/ptb/lib/python3.10/site-packages/torch/nn/modules/loss.py:535: UserWarning: Using a target size (torch.Size([1000, 1])) that is different to the input size (torch.Size([1000, 100])). This will likely lead to incorrect results due to broadcasting. Please ensure they have the same size.\n",
      "  return F.mse_loss(input, target, reduction=self.reduction)\n"
     ]
    },
    {
     "name": "stdout",
     "output_type": "stream",
     "text": [
      "Epoch [10/500], Loss: 42031.2188\n",
      "Epoch [20/500], Loss: 42024.4375\n",
      "Epoch [30/500], Loss: 42011.6172\n",
      "Epoch [40/500], Loss: 41983.0586\n",
      "Epoch [50/500], Loss: 41911.2383\n",
      "Epoch [60/500], Loss: 41703.7109\n",
      "Epoch [70/500], Loss: 40955.4062\n",
      "Epoch [80/500], Loss: 37265.7500\n",
      "Epoch [90/500], Loss: 19113.6523\n",
      "Epoch [100/500], Loss: 6299.9795\n",
      "Epoch [110/500], Loss: 1630.9171\n",
      "Epoch [120/500], Loss: 722.9653\n",
      "Epoch [130/500], Loss: 320.7168\n",
      "Epoch [140/500], Loss: 166.0448\n",
      "Epoch [150/500], Loss: 108.3798\n",
      "Epoch [160/500], Loss: 69.4960\n",
      "Epoch [170/500], Loss: 49.8450\n",
      "Epoch [180/500], Loss: 36.9950\n",
      "Epoch [190/500], Loss: 28.0290\n",
      "Epoch [200/500], Loss: 21.8564\n",
      "Epoch [210/500], Loss: 17.3029\n",
      "Epoch [220/500], Loss: 13.8885\n",
      "Epoch [230/500], Loss: 11.2813\n",
      "Epoch [240/500], Loss: 9.2537\n",
      "Epoch [250/500], Loss: 7.6591\n",
      "Epoch [260/500], Loss: 6.3901\n",
      "Epoch [270/500], Loss: 5.3696\n",
      "Epoch [280/500], Loss: 4.5433\n",
      "Epoch [290/500], Loss: 3.8688\n",
      "Epoch [300/500], Loss: 3.3144\n",
      "Epoch [310/500], Loss: 2.8556\n",
      "Epoch [320/500], Loss: 2.4733\n",
      "Epoch [330/500], Loss: 2.1527\n",
      "Epoch [340/500], Loss: 1.8825\n",
      "Epoch [350/500], Loss: 1.6537\n",
      "Epoch [360/500], Loss: 1.4591\n",
      "Epoch [370/500], Loss: 1.2926\n",
      "Epoch [380/500], Loss: 1.1495\n",
      "Epoch [390/500], Loss: 1.0260\n",
      "Epoch [400/500], Loss: 0.9190\n",
      "Epoch [410/500], Loss: 0.8258\n",
      "Epoch [420/500], Loss: 0.7443\n",
      "Epoch [430/500], Loss: 0.6729\n",
      "Epoch [440/500], Loss: 0.6101\n",
      "Epoch [450/500], Loss: 0.5546\n",
      "Epoch [460/500], Loss: 0.5055\n",
      "Epoch [470/500], Loss: 0.4619\n",
      "Epoch [480/500], Loss: 0.4229\n",
      "Epoch [490/500], Loss: 0.3881\n",
      "Epoch [500/500], Loss: 0.3569\n",
      "44.76640200614929\n"
     ]
    }
   ],
   "source": [
    "import torch\n",
    "import torch.nn as nn\n",
    "import torch.optim as optim\n",
    "import time\n",
    "\n",
    "\n",
    "X, y = datasets.make_regression(n_samples=1000, n_features=100, noise=0.01)\n",
    "\n",
    "\n",
    "grads = []\n",
    "# Define the neural network architecture\n",
    "class SimpleMLP(nn.Module):\n",
    "    def __init__(self):\n",
    "        super(SimpleMLP, self).__init__()\n",
    "        self.fc1 = nn.Linear(100, 2048)\n",
    "        self.relu = nn.ReLU()\n",
    "        self.fc2 = nn.Linear(2048, 2048)\n",
    "        self.output = nn.Linear(2048, 100)\n",
    "\n",
    "    def forward(self, x):\n",
    "        x = self.relu(self.fc1(x))\n",
    "        x = self.relu(self.fc2(x))\n",
    "        x = self.output(x)\n",
    "        return x\n",
    "\n",
    "# Initialize the network\n",
    "net = SimpleMLP()\n",
    "\n",
    "# Loss function and optimizer\n",
    "criterion = nn.MSELoss()\n",
    "optimizer = optim.SGD(net.parameters(), lr=0.0001, momentum=0.9)\n",
    "\n",
    "# Example training loop\n",
    "def train(model, criterion, optimizer, x_train, y_train, epochs=100):\n",
    "    model.train()\n",
    "    start_time = time.time() \n",
    "    for epoch in range(epochs):\n",
    "        inputs = torch.tensor(x_train, dtype=torch.float32)\n",
    "        targets = torch.tensor(y_train, dtype=torch.float32).view(-1, 1)\n",
    "\n",
    "        # Forward pass\n",
    "        outputs = model(inputs)\n",
    "        loss = criterion(outputs, targets)\n",
    "\n",
    "        # Backward and optimize\n",
    "        optimizer.zero_grad()\n",
    "        loss.backward()\n",
    "        optimizer.step()\n",
    "\n",
    "        if (epoch+1) % 10 == 0:\n",
    "            print(f'Epoch [{epoch+1}/{epochs}], Loss: {loss.item():.4f}')\n",
    "    end_time = time.time()\n",
    "    diff = end_time - start_time\n",
    "    print(diff)\n",
    "\n",
    "# Assuming you have `xs` and `ys` from your dataset\n",
    "train(net, criterion, optimizer, X, y, epochs=500)\n",
    "# plt.plot(np.arange(0, len(grads), 1), grads)"
   ]
  },
  {
   "cell_type": "code",
   "execution_count": 6,
   "id": "cf7ca25b-933d-44c7-aeda-eef539ba40dc",
   "metadata": {},
   "outputs": [],
   "source": [
    "import math\n",
    "\n",
    "preds = [2, -1.2, 4, 8]\n",
    "\n",
    "def softmax(z):\n",
    "    K = len(z)\n",
    "    out = []\n",
    " \n",
    "    # Pre comp the sum\n",
    "    total_exp_values = 0\n",
    "    for j in range(K):\n",
    "        total_exp_values += math.exp(z[j])\n",
    "\n",
    "    for i in range(len(preds)):\n",
    "        out.append(math.exp(z[i])/total_exp_values)\n",
    "    return out\n",
    "            "
   ]
  },
  {
   "cell_type": "code",
   "execution_count": 26,
   "id": "eb739663-f373-4216-9df8-8692416cea6c",
   "metadata": {},
   "outputs": [],
   "source": [
    "import numpy as np"
   ]
  },
  {
   "cell_type": "code",
   "execution_count": 27,
   "id": "e6dd46b7-b3d0-4b6b-b5e8-65d4d47eef10",
   "metadata": {},
   "outputs": [],
   "source": [
    "def np_softmax(a):\n",
    "    a = a if isinstance(a, np.ndarray) else np.array(a)\n",
    "    e = np.exp(a)\n",
    "    return e/np.sum(e)"
   ]
  },
  {
   "cell_type": "code",
   "execution_count": 31,
   "id": "2bc105fd-ef6f-4ed5-b3c0-34a23a57f556",
   "metadata": {},
   "outputs": [],
   "source": [
    "def other_softmax(a):\n",
    "    a = a if isinstance(a, np.ndarray) else np.array(a)\n",
    "    m = a - np.max(a)\n",
    "    e = np.exp(m)\n",
    "    return e/np.sum(e)"
   ]
  },
  {
   "cell_type": "code",
   "execution_count": 32,
   "id": "0b9d67c7-043d-41b6-b811-3cc3cab07cd1",
   "metadata": {},
   "outputs": [
    {
     "data": {
      "text/plain": [
       "array([2.42801770e-03, 9.89713528e-05, 1.79407590e-02, 9.79532252e-01])"
      ]
     },
     "execution_count": 32,
     "metadata": {},
     "output_type": "execute_result"
    }
   ],
   "source": [
    "np_softmax(preds)"
   ]
  },
  {
   "cell_type": "code",
   "execution_count": 33,
   "id": "73697848-70dd-4e64-a795-db3e16e4e70b",
   "metadata": {},
   "outputs": [
    {
     "data": {
      "text/plain": [
       "array([2.42801770e-03, 9.89713528e-05, 1.79407590e-02, 9.79532252e-01])"
      ]
     },
     "execution_count": 33,
     "metadata": {},
     "output_type": "execute_result"
    }
   ],
   "source": [
    "other_softmax(preds)"
   ]
  },
  {
   "cell_type": "code",
   "execution_count": 7,
   "id": "d4b71e99-1ace-4176-98a2-190c0b5f50cd",
   "metadata": {},
   "outputs": [
    {
     "data": {
      "text/plain": [
       "[0.002428017701609162,\n",
       " 9.897135281607659e-05,\n",
       " 0.017940759006386756,\n",
       " 0.979532251939188]"
      ]
     },
     "execution_count": 7,
     "metadata": {},
     "output_type": "execute_result"
    }
   ],
   "source": [
    "softmax(preds)"
   ]
  },
  {
   "cell_type": "code",
   "execution_count": 8,
   "id": "989466da-81de-46f5-a7f8-ffb95026f5c9",
   "metadata": {},
   "outputs": [],
   "source": [
    "import torch"
   ]
  },
  {
   "cell_type": "code",
   "execution_count": null,
   "id": "5d1b33b7-fed9-4330-b61c-1754e38deede",
   "metadata": {},
   "outputs": [],
   "source": [
    "  def _softmax(self, axis):\n",
    "    m = self - self.max(axis=axis, keepdim=True)\n",
    "    e = m.exp()\n",
    "    return m, e, e.sum(axis=axis, keepdim=True)"
   ]
  },
  {
   "cell_type": "code",
   "execution_count": null,
   "id": "566e4006-b574-4a23-b3f4-d7e8924580f6",
   "metadata": {},
   "outputs": [],
   "source": []
  },
  {
   "cell_type": "code",
   "execution_count": null,
   "id": "811dc471-19b5-4edb-b54b-351df548f31a",
   "metadata": {},
   "outputs": [],
   "source": []
  },
  {
   "cell_type": "code",
   "execution_count": null,
   "id": "600409b8-8f5a-4f6c-9a05-6cfb55891882",
   "metadata": {},
   "outputs": [],
   "source": []
  },
  {
   "cell_type": "code",
   "execution_count": null,
   "id": "1fbdb200-caf0-43c1-8233-398d7e6942cf",
   "metadata": {},
   "outputs": [],
   "source": []
  },
  {
   "cell_type": "code",
   "execution_count": null,
   "id": "a2fafd7d-17dd-4b67-a4b3-9eb9a9353e7e",
   "metadata": {},
   "outputs": [],
   "source": []
  },
  {
   "cell_type": "code",
   "execution_count": 46,
   "id": "88a90849-a181-4c37-a5f1-1515c8baba8c",
   "metadata": {},
   "outputs": [],
   "source": [
    "def log_softmax(z, axis=-1):\n",
    "    max_tensor = z.max(axis=axis, keepdims=True)\n",
    "    m = z - max_tensor\n",
    "    e = np.exp(m)\n",
    "    s = e.sum(axis=axis, keepdims=True)\n",
    "    return m - np.log(s)"
   ]
  },
  {
   "cell_type": "code",
   "execution_count": 54,
   "id": "c36e1458-9903-45f0-af97-95599b4c5fca",
   "metadata": {},
   "outputs": [],
   "source": [
    "inp = np.array([preds])"
   ]
  },
  {
   "cell_type": "code",
   "execution_count": 55,
   "id": "3cb8b3f4-7161-497d-b029-f3776fc39940",
   "metadata": {},
   "outputs": [
    {
     "data": {
      "text/plain": [
       "array([[ 2. , -1.2,  4. ,  8. ]])"
      ]
     },
     "execution_count": 55,
     "metadata": {},
     "output_type": "execute_result"
    }
   ],
   "source": [
    "inp"
   ]
  },
  {
   "cell_type": "code",
   "execution_count": 56,
   "id": "8ab77ab3-e7a3-49f4-8364-8228f72f9b84",
   "metadata": {},
   "outputs": [],
   "source": [
    "data = log_softmax(inp)"
   ]
  },
  {
   "cell_type": "code",
   "execution_count": 59,
   "id": "06dd51f7-7a13-4cd8-abc1-5a473f44ba51",
   "metadata": {},
   "outputs": [],
   "source": [
    "preds = [0, 1, 2, 3]"
   ]
  },
  {
   "cell_type": "code",
   "execution_count": 66,
   "id": "bcd7ed4a-b665-4421-b494-4d8b647f14a1",
   "metadata": {},
   "outputs": [
    {
     "name": "stdout",
     "output_type": "stream",
     "text": [
      "1\n",
      "[[-6.02068012 -9.22068012 -4.02068012 -0.02068012]]\n",
      "[[6.02068012 6.02068012 4.02068012 0.02068012]]\n"
     ]
    }
   ],
   "source": [
    "N = data.shape[0]\n",
    "print(N)\n",
    "log_probs = data  # Assume self is already log_softmax output\n",
    "print(log_probs)\n",
    "nll = -log_probs[np.arange(N), np.array([[0, 0, 2, 3]])]\n",
    "print(nll)"
   ]
  },
  {
   "cell_type": "code",
   "execution_count": 69,
   "id": "07020db7-bf14-4d5b-93f9-755ff2aa6ced",
   "metadata": {},
   "outputs": [
    {
     "data": {
      "text/plain": [
       "array([0])"
      ]
     },
     "execution_count": 69,
     "metadata": {},
     "output_type": "execute_result"
    }
   ],
   "source": [
    "np.arange(N)"
   ]
  },
  {
   "cell_type": "code",
   "execution_count": 68,
   "id": "71952839-64df-4ae1-bf6b-328a7e48258a",
   "metadata": {},
   "outputs": [
    {
     "data": {
      "text/plain": [
       "array([[-6.02068012, -9.22068012, -4.02068012, -0.02068012]])"
      ]
     },
     "execution_count": 68,
     "metadata": {},
     "output_type": "execute_result"
    }
   ],
   "source": [
    "log_probs[preds = [2, -1.2, 4, 8]]"
   ]
  },
  {
   "cell_type": "code",
   "execution_count": 114,
   "id": "55a718a7-bad1-48be-8cde-47bf19f0d7ca",
   "metadata": {},
   "outputs": [],
   "source": [
    "# Parameters for the normal distribution\n",
    "mean = 0  # mean of the distribution\n",
    "std_dev = 1  # standard deviation of the distribution\n",
    "num_samples = 500  # number of samples to generate\n",
    "\n",
    "# Generate the data\n",
    "data = np.random.normal(loc=mean, scale=std_dev, size=num_samples)\n",
    "data = list(data)"
   ]
  },
  {
   "cell_type": "code",
   "execution_count": 115,
   "id": "ecd4daf5-6548-445a-bad4-5fc8b80a2987",
   "metadata": {},
   "outputs": [],
   "source": [
    "def calculate_likelihood(data, mean, std_dev):\n",
    "    n = len(data)\n",
    "    variance = std_dev ** 2\n",
    "    likelihood = 1\n",
    "    for x in data:\n",
    "        norm_factor = 1/math.sqrt(2 * math.pi * variance)\n",
    "        exp_term = math.exp(-((x - mean) ** 2) / (2 * variance))\n",
    "        likelihood *= (norm_factor * exp_term)\n",
    "    return likelihood"
   ]
  },
  {
   "cell_type": "code",
   "execution_count": 116,
   "id": "49eec4fc-6847-4a88-8ad6-bbedb86174aa",
   "metadata": {},
   "outputs": [
    {
     "name": "stdout",
     "output_type": "stream",
     "text": [
      "Best mean: -0.1, Likelihood: 4.2627010697636934e-305\n",
      "Best std deviation: 1.0, Likelihood: 4.2627010697636934e-305\n"
     ]
    }
   ],
   "source": [
    "mean_range = [i / 10.0 for i in range(-50, 51)]\n",
    "std_dev_range = [i / 10.0 for i in range(1, 51)]  # std_dev should be positive\n",
    "\n",
    "# Variables to store the best parameters and the highest likelihood\n",
    "best_mean = None\n",
    "best_std_dev = None\n",
    "highest_likelihood = -float('inf')\n",
    "\n",
    "# Trial and error for mean\n",
    "for m in mean_range:\n",
    "    likelihood = calculate_likelihood(data, m, std_dev)\n",
    "    if likelihood > highest_likelihood:\n",
    "        highest_likelihood = likelihood\n",
    "        best_mean = m\n",
    "print(f\"Best mean: {best_mean}, Likelihood: {highest_likelihood}\")\n",
    "\n",
    "# Reset highest likelihood for std deviation optimization\n",
    "highest_likelihood = -float('inf')\n",
    "\n",
    "# Trial and error for std deviation\n",
    "for s in std_dev_range:\n",
    "    likelihood = calculate_likelihood(data, best_mean, s)\n",
    "    if likelihood > highest_likelihood:\n",
    "        highest_likelihood = likelihood\n",
    "        best_std_dev = s\n",
    "\n",
    "print(f\"Best std deviation: {best_std_dev}, Likelihood: {highest_likelihood}\")"
   ]
  },
  {
   "cell_type": "code",
   "execution_count": 118,
   "id": "547ff196-5b87-463c-945e-69d87588902f",
   "metadata": {},
   "outputs": [
    {
     "name": "stdout",
     "output_type": "stream",
     "text": [
      "Best mean: 0.0, Log-Likelihood: -141879.50135441098\n",
      "Best std deviation: 1.0, Log-Likelihood: -141879.50135441098\n"
     ]
    }
   ],
   "source": [
    "import math\n",
    "\n",
    "# Generate data using numpy (you can skip this if you have your own data)\n",
    "import numpy as np\n",
    "mean = 0\n",
    "std_dev = 1\n",
    "num_samples = 100000\n",
    "data = np.random.normal(loc=mean, scale=std_dev, size=num_samples)\n",
    "\n",
    "# Save data to a list (you can replace this with your own data)\n",
    "data = list(data)\n",
    "\n",
    "# Function to calculate the log-likelihood of the data given a mean and std deviation\n",
    "def calculate_log_likelihood(data, mean, std_dev):\n",
    "    n = len(data)\n",
    "    variance = std_dev ** 2\n",
    "    log_likelihood = 0\n",
    "    for x in data:\n",
    "        log_likelihood += -0.5 * math.log(2 * math.pi * variance) - ((x - mean) ** 2) / (2 * variance)\n",
    "    return log_likelihood\n",
    "\n",
    "# Define the range and step size for mean and std deviation\n",
    "mean_range = [i / 10.0 for i in range(-50, 51)]\n",
    "std_dev_range = [i / 10.0 for i in range(1, 51)]  # std_dev should be positive\n",
    "\n",
    "# Variables to store the best parameters and the highest likelihood\n",
    "best_mean = None\n",
    "best_std_dev = None\n",
    "highest_log_likelihood = -float('inf')\n",
    "\n",
    "# Trial and error for mean\n",
    "for m in mean_range:\n",
    "    log_likelihood = calculate_log_likelihood(data, m, std_dev)\n",
    "    if log_likelihood > highest_log_likelihood:\n",
    "        highest_log_likelihood = log_likelihood\n",
    "        best_mean = m\n",
    "\n",
    "print(f\"Best mean: {best_mean}, Log-Likelihood: {highest_log_likelihood}\")\n",
    "\n",
    "# Reset highest log-likelihood for std deviation optimization\n",
    "highest_log_likelihood = -float('inf')\n",
    "\n",
    "# Trial and error for std deviation\n",
    "for s in std_dev_range:\n",
    "    log_likelihood = calculate_log_likelihood(data, best_mean, s)\n",
    "    if log_likelihood > highest_log_likelihood:\n",
    "        highest_log_likelihood = log_likelihood\n",
    "        best_std_dev = s\n",
    "\n",
    "print(f\"Best std deviation: {best_std_dev}, Log-Likelihood: {highest_log_likelihood}\")\n"
   ]
  },
  {
   "cell_type": "code",
   "execution_count": null,
   "id": "01f5584a-aae9-4df2-87b4-c04298266912",
   "metadata": {},
   "outputs": [],
   "source": []
  }
 ],
 "metadata": {
  "kernelspec": {
   "display_name": "Python 3 (ipykernel)",
   "language": "python",
   "name": "python3"
  },
  "language_info": {
   "codemirror_mode": {
    "name": "ipython",
    "version": 3
   },
   "file_extension": ".py",
   "mimetype": "text/x-python",
   "name": "python",
   "nbconvert_exporter": "python",
   "pygments_lexer": "ipython3",
   "version": "3.10.13"
  }
 },
 "nbformat": 4,
 "nbformat_minor": 5
}

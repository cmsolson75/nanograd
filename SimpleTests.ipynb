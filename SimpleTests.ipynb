{
 "cells": [
  {
   "cell_type": "code",
   "execution_count": 1,
   "metadata": {},
   "outputs": [],
   "source": [
    "from engine import Tensor\n",
    "import numpy as np\n",
    "import nn"
   ]
  },
  {
   "cell_type": "code",
   "execution_count": 26,
   "metadata": {
    "scrolled": false
   },
   "outputs": [
    {
     "name": "stdout",
     "output_type": "stream",
     "text": [
      "0 2.4511657\n",
      "200 0.016993433\n",
      "400 0.00399449\n",
      "600 0.002085461\n",
      "800 0.0010795796\n",
      "1000 0.0005623102\n",
      "1200 0.00029731332\n",
      "1400 0.00015981973\n",
      "1600 8.719556e-05\n",
      "1800 4.815931e-05\n",
      "2000 2.6858419e-05\n",
      "2200 1.5093727e-05\n",
      "2400 8.530926e-06\n",
      "2600 4.8435195e-06\n",
      "2800 2.7594085e-06\n",
      "3000 1.5759921e-06\n",
      "3200 9.02297e-07\n",
      "3400 5.1679064e-07\n",
      "3600 2.971141e-07\n",
      "3800 1.7102163e-07\n",
      "4000 9.84687e-08\n",
      "4200 5.632666e-08\n",
      "4400 3.2621664e-08\n",
      "4600 1.8941812e-08\n",
      "4800 1.1235773e-08\n",
      "5000 6.7056654e-09\n",
      "5200 4.003451e-09\n",
      "5400 2.484879e-09\n",
      "5600 1.5718884e-09\n",
      "5800 1.0229844e-09\n",
      "6000 6.7636563e-10\n",
      "6200 4.815819e-10\n",
      "6400 3.5338665e-10\n",
      "6600 2.5658764e-10\n",
      "6800 1.8970425e-10\n",
      "7000 1.5025581e-10\n",
      "7200 1.2017853e-10\n",
      "7400 9.786749e-11\n",
      "7600 7.868639e-11\n",
      "7800 6.5568884e-11\n",
      "8000 5.5832672e-11\n",
      "8200 4.9014126e-11\n",
      "8400 4.357492e-11\n",
      "8600 3.885603e-11\n",
      "8800 3.4742875e-11\n",
      "9000 3.1388225e-11\n",
      "9200 2.8525626e-11\n",
      "9400 2.6707525e-11\n",
      "9600 2.4820146e-11\n",
      "9800 2.3144153e-11\n"
     ]
    },
    {
     "data": {
      "text/plain": [
       "[[ 0.999996  ]\n",
       " [-0.9999997 ]\n",
       " [-0.99999565]\n",
       " [ 1.0000072 ]]"
      ]
     },
     "execution_count": 26,
     "metadata": {},
     "output_type": "execute_result"
    }
   ],
   "source": [
    "## Does it work in simple contexts?\n",
    "\n",
    "xs = [\n",
    "    [2.0, 3.0, -1.0],\n",
    "    [3.0, -1.0, 0.5],\n",
    "    [0.5, 1.0, 1.0],\n",
    "    [1.0, 1.0, -1.0],\n",
    "]\n",
    "\n",
    "ys = [[1.0], \n",
    "      [-1.0], \n",
    "      [-1.0], \n",
    "      [1.0]]\n",
    "\n",
    "\n",
    "net = nn.MLP()\n",
    "\n",
    "x = Tensor(xs)\n",
    "y_real = Tensor(ys)\n",
    "\n",
    "for k in range(10000):\n",
    "    net.zero_grad()\n",
    "    y_pred = net(x)\n",
    "    loss = ((y_pred - y_real)**2).sum() / y_real.shape[0]\n",
    "#     loss = loss_fn(y_pred, y_real)\n",
    "    loss.backward()\n",
    "    \n",
    "    for p in net.parameters():\n",
    "        if p.grad is not None:\n",
    "            p.data -= 0.005 * p.grad  # Apply the learning rate.\n",
    "    \n",
    "    if k % 200 == 0:\n",
    "        print(k, loss.data)\n",
    "    \n",
    "y_pred"
   ]
  },
  {
   "cell_type": "code",
   "execution_count": null,
   "metadata": {},
   "outputs": [],
   "source": []
  }
 ],
 "metadata": {
  "kernelspec": {
   "display_name": "Python 3",
   "language": "python",
   "name": "python3"
  },
  "language_info": {
   "codemirror_mode": {
    "name": "ipython",
    "version": 3
   },
   "file_extension": ".py",
   "mimetype": "text/x-python",
   "name": "python",
   "nbconvert_exporter": "python",
   "pygments_lexer": "ipython3",
   "version": "3.8.5"
  }
 },
 "nbformat": 4,
 "nbformat_minor": 5
}
